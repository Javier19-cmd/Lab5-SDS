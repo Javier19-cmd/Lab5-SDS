{
 "cells": [
  {
   "cell_type": "markdown",
   "metadata": {},
   "source": [
    "# Laboratorio 5 \n",
    "\n",
    "Javier Valle 20159"
   ]
  },
  {
   "cell_type": "code",
   "execution_count": 119,
   "metadata": {},
   "outputs": [],
   "source": [
    "#from Archivos.clasificador import clasificacion\n",
    "from clasificador import clasificacion\n",
    "import pandas as pd\n",
    "import json\n",
    "import random\n",
    "import re\n",
    "import numpy as np"
   ]
  },
  {
   "cell_type": "markdown",
   "metadata": {},
   "source": [
    "### Parte 1"
   ]
  },
  {
   "cell_type": "markdown",
   "metadata": {},
   "source": [
    "Leyendo y guardando el tráfico que es DNS nada más"
   ]
  },
  {
   "cell_type": "code",
   "execution_count": 120,
   "metadata": {},
   "outputs": [],
   "source": [
    "with open('./large_eve.json', 'r') as archivo_json, \\\n",
    "        open('./dns_trafico.json', 'w') as archivo_dns:\n",
    "    \n",
    "    for linea in archivo_json:\n",
    "        datos = json.loads(linea)\n",
    "        if datos['event_type'] == 'dns':\n",
    "            json.dump(datos, archivo_dns)\n",
    "            archivo_dns.write('\\n')\n",
    "\n",
    "archivo_json.close()\n",
    "archivo_dns.close()"
   ]
  },
  {
   "cell_type": "markdown",
   "metadata": {},
   "source": [
    "Enseñando la cantidad de registros"
   ]
  },
  {
   "cell_type": "code",
   "execution_count": 121,
   "metadata": {},
   "outputs": [
    {
     "name": "stdout",
     "output_type": "stream",
     "text": [
      "Cantidad de registros guardados: 15749\n"
     ]
    }
   ],
   "source": [
    "with open('./dns_trafico.json', 'r') as archivo_dns:\n",
    "    contador_registros = 0\n",
    "\n",
    "    for linea in archivo_dns:\n",
    "        contador_registros += 1\n",
    "\n",
    "print(\"Cantidad de registros guardados:\", contador_registros)"
   ]
  },
  {
   "cell_type": "markdown",
   "metadata": {},
   "source": [
    "Enseñando la información de 2 registros cualesquiera"
   ]
  },
  {
   "cell_type": "code",
   "execution_count": 122,
   "metadata": {},
   "outputs": [
    {
     "name": "stdout",
     "output_type": "stream",
     "text": [
      "Registro 1:\n",
      "{\n",
      "    \"timestamp\": \"2017-07-22T18:29:18.882838-0500\",\n",
      "    \"flow_id\": 77620826764762,\n",
      "    \"pcap_cnt\": 507116,\n",
      "    \"event_type\": \"dns\",\n",
      "    \"vlan\": 150,\n",
      "    \"src_ip\": \"192.168.207.4\",\n",
      "    \"src_port\": 53,\n",
      "    \"dest_ip\": \"192.168.205.188\",\n",
      "    \"dest_port\": 33358,\n",
      "    \"proto\": \"UDP\",\n",
      "    \"dns\": {\n",
      "        \"type\": \"answer\",\n",
      "        \"id\": 26870,\n",
      "        \"rcode\": \"NXDOMAIN\",\n",
      "        \"rrname\": \"<root>\",\n",
      "        \"rrtype\": \"SOA\",\n",
      "        \"ttl\": 20864\n",
      "    }\n",
      "}\n",
      "\n",
      "Registro 2:\n",
      "{\n",
      "    \"timestamp\": \"2017-07-22T19:29:19.501702-0500\",\n",
      "    \"flow_id\": 1127392674293453,\n",
      "    \"pcap_cnt\": 3355720,\n",
      "    \"event_type\": \"dns\",\n",
      "    \"vlan\": 150,\n",
      "    \"src_ip\": \"192.168.207.4\",\n",
      "    \"src_port\": 53,\n",
      "    \"dest_ip\": \"192.168.205.188\",\n",
      "    \"dest_port\": 49403,\n",
      "    \"proto\": \"UDP\",\n",
      "    \"dns\": {\n",
      "        \"type\": \"answer\",\n",
      "        \"id\": 698,\n",
      "        \"rcode\": \"NXDOMAIN\",\n",
      "        \"rrname\": \"<root>\",\n",
      "        \"rrtype\": \"SOA\",\n",
      "        \"ttl\": 20864\n",
      "    }\n",
      "}\n"
     ]
    }
   ],
   "source": [
    "lineas = []\n",
    "\n",
    "with open('./dns_trafico.json', 'r') as archivo_dns:\n",
    "    for linea in archivo_dns:\n",
    "        lineas.append(linea)\n",
    "\n",
    "# Escogiendo dos índices aleatorios dentro del rango de líneas en el archivo\n",
    "indice1 = random.randint(0, len(lineas)-1)\n",
    "indice2 = random.randint(0, len(lineas)-1)\n",
    "\n",
    "# Obteniendo los datos de los registros correspondientes a los índices escogidos\n",
    "registro1 = json.loads(lineas[indice1])\n",
    "registro2 = json.loads(lineas[indice2])\n",
    "\n",
    "\n",
    "print(\"Registro 1:\")\n",
    "print(json.dumps(registro1, indent=4)) \n",
    "print(\"\\nRegistro 2:\")\n",
    "print(json.dumps(registro2, indent=4))\n"
   ]
  },
  {
   "cell_type": "markdown",
   "metadata": {},
   "source": [
    "Normalizando la data"
   ]
  },
  {
   "cell_type": "code",
   "execution_count": 123,
   "metadata": {},
   "outputs": [
    {
     "name": "stdout",
     "output_type": "stream",
     "text": [
      "Shape del DataFrame: (15749, 18)\n"
     ]
    }
   ],
   "source": [
    "with open('./dns_trafico.json', 'r') as archivo_dns:\n",
    "    datos = [json.loads(linea) for linea in archivo_dns]\n",
    "\n",
    "# Normalizando los datos\n",
    "df = pd.json_normalize(datos)\n",
    "\n",
    "print(\"Shape del DataFrame:\", df.shape)"
   ]
  },
  {
   "cell_type": "markdown",
   "metadata": {},
   "source": [
    "Buscando dominios DGA"
   ]
  },
  {
   "cell_type": "code",
   "execution_count": 124,
   "metadata": {},
   "outputs": [
    {
     "name": "stdout",
     "output_type": "stream",
     "text": [
      "Shape del DataFrame filtrado: 2849\n"
     ]
    }
   ],
   "source": [
    "# Filtrando los registros DNS tipo A\n",
    "registros_tipo_A = df[df['dns.rrtype'] == 'A']\n",
    "\n",
    "print(\"Shape del DataFrame filtrado:\", len(registros_tipo_A))"
   ]
  },
  {
   "cell_type": "markdown",
   "metadata": {},
   "source": [
    "Filtrando los dominios únicos"
   ]
  },
  {
   "cell_type": "code",
   "execution_count": 125,
   "metadata": {},
   "outputs": [
    {
     "name": "stdout",
     "output_type": "stream",
     "text": [
      "Cantidad de registros únicos: 334\n"
     ]
    }
   ],
   "source": [
    "# Conjunto para almacenar dominios únicos\n",
    "unique_domains = set()\n",
    "\n",
    "with open('./dns_trafico.json', 'r') as archivo_dns:\n",
    "    for linea in archivo_dns:\n",
    "        datos = json.loads(linea)\n",
    "        # Extrayendo el dominio del campo 'rrname' y agregarlo al conjunto\n",
    "        domain = datos['dns']['rrname']\n",
    "        unique_domains.add(domain)\n",
    "\n",
    "num_unique_domains = len(unique_domains)\n",
    "\n",
    "print(\"Cantidad de registros únicos:\", num_unique_domains)"
   ]
  },
  {
   "cell_type": "markdown",
   "metadata": {},
   "source": [
    "Escribiendo una función que obtengo el TLD para un dominio"
   ]
  },
  {
   "cell_type": "code",
   "execution_count": 126,
   "metadata": {},
   "outputs": [
    {
     "name": "stdout",
     "output_type": "stream",
     "text": [
      "TLD de api.wunderground.com : wunderground\n",
      "TLD de safebrowsing.clients.google.com.home : clients.google.com\n"
     ]
    }
   ],
   "source": [
    "def obtener_TLD(dominio):\n",
    "    # Expresión regular para encontrar el TLD\n",
    "    patron = r'\\.(.*?)\\.(?:com|org|net|gov|edu|int|mil|arpa|biz|info|name|pro|aero|coop|museum|jobs|travel|cat|tel|onion|git|home|local|example|test|invalid|localhost|localdomain)$'\n",
    "    match = re.search(patron, dominio)\n",
    "    if match:\n",
    "        return match.group(1)\n",
    "    else:\n",
    "        return dominio\n",
    "\n",
    "# Ejemplo de uso\n",
    "dominio1 = \"api.wunderground.com\"\n",
    "dominio2 = \"safebrowsing.clients.google.com.home\"\n",
    "\n",
    "print(\"TLD de\", dominio1, \":\", obtener_TLD(dominio1))\n",
    "print(\"TLD de\", dominio2, \":\", obtener_TLD(dominio2))"
   ]
  },
  {
   "cell_type": "markdown",
   "metadata": {},
   "source": [
    "Prompt utilizado: \"hola, me podrías escribir una función que me obtenga el TLD para un dominio\""
   ]
  },
  {
   "cell_type": "markdown",
   "metadata": {},
   "source": [
    "Creando una columna que se llame domain_tld y eliminando las demás columnas"
   ]
  },
  {
   "cell_type": "code",
   "execution_count": 127,
   "metadata": {},
   "outputs": [
    {
     "name": "stdout",
     "output_type": "stream",
     "text": [
      "                        domain_tld\n",
      "0                     wunderground\n",
      "1                          dropbox\n",
      "2      office.aol.com.ad.aol.aoltw\n",
      "3      office.aol.com.ad.aol.aoltw\n",
      "4                           <root>\n",
      "...                            ...\n",
      "15744               start3.mozilla\n",
      "15745                       <root>\n",
      "15746        whitecell.localdomain\n",
      "15747        whitecell.localdomain\n",
      "15748                       <root>\n",
      "\n",
      "[15749 rows x 1 columns]\n"
     ]
    }
   ],
   "source": [
    "if 'domain_tld' not in df.columns:\n",
    "    df['domain_tld'] = df['dns.rrname'].apply(obtener_TLD)\n",
    "    \n",
    "    df = df[['domain_tld']]\n",
    "\n",
    "print(df)"
   ]
  },
  {
   "cell_type": "markdown",
   "metadata": {},
   "source": [
    "### Parte 2"
   ]
  },
  {
   "cell_type": "markdown",
   "metadata": {},
   "source": [
    "Usando el clasificador proporcionado y creando un nuevo dataframe"
   ]
  },
  {
   "cell_type": "code",
   "execution_count": null,
   "metadata": {},
   "outputs": [],
   "source": [
    "df\n",
    "\n",
    "clasificacion(df)"
   ]
  }
 ],
 "metadata": {
  "kernelspec": {
   "display_name": "Python 3",
   "language": "python",
   "name": "python3"
  },
  "language_info": {
   "codemirror_mode": {
    "name": "ipython",
    "version": 3
   },
   "file_extension": ".py",
   "mimetype": "text/x-python",
   "name": "python",
   "nbconvert_exporter": "python",
   "pygments_lexer": "ipython3",
   "version": "3.11.3"
  }
 },
 "nbformat": 4,
 "nbformat_minor": 2
}
