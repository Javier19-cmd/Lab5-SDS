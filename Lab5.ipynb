{
  "cells": [
    {
      "cell_type": "markdown",
      "metadata": {
        "id": "view-in-github",
        "colab_type": "text"
      },
      "source": [
        "<a href=\"https://colab.research.google.com/github/Javier19-cmd/Lab5-SDS/blob/main/Lab5.ipynb\" target=\"_parent\"><img src=\"https://colab.research.google.com/assets/colab-badge.svg\" alt=\"Open In Colab\"/></a>"
      ]
    },
    {
      "cell_type": "markdown",
      "metadata": {
        "id": "RNceaZR8Plbl"
      },
      "source": [
        "# Laboratorio 5\n",
        "\n",
        "Javier Valle 20159"
      ]
    },
    {
      "cell_type": "code",
      "execution_count": 10,
      "metadata": {
        "id": "jJzepmElPlbo"
      },
      "outputs": [],
      "source": [
        "#from Archivos.clasificador import clasificacion\n",
        "from clasificador import clasificacion\n",
        "import pandas as pd\n",
        "import json\n",
        "import random\n",
        "import re\n",
        "import numpy as np"
      ]
    },
    {
      "cell_type": "code",
      "source": [
        "!pip install python-whois"
      ],
      "metadata": {
        "id": "8vbBtGPJqqRp",
        "outputId": "e47c8421-6886-4fc6-a9dd-b1efed2d5661",
        "colab": {
          "base_uri": "https://localhost:8080/"
        }
      },
      "execution_count": null,
      "outputs": [
        {
          "output_type": "stream",
          "name": "stdout",
          "text": [
            "Collecting python-whois\n",
            "  Downloading python_whois-0.9.3-py3-none-any.whl (103 kB)\n",
            "\u001b[?25l     \u001b[90m━━━━━━━━━━━━━━━━━━━━━━━━━━━━━━━━━━━━━━━━\u001b[0m \u001b[32m0.0/103.3 kB\u001b[0m \u001b[31m?\u001b[0m eta \u001b[36m-:--:--\u001b[0m\r\u001b[2K     \u001b[91m━━━━━━━━━━━━━━━━━━━━━━━━━━━━━━━━━━━━━━━\u001b[0m\u001b[91m╸\u001b[0m \u001b[32m102.4/103.3 kB\u001b[0m \u001b[31m2.9 MB/s\u001b[0m eta \u001b[36m0:00:01\u001b[0m\r\u001b[2K     \u001b[90m━━━━━━━━━━━━━━━━━━━━━━━━━━━━━━━━━━━━━━━━\u001b[0m \u001b[32m103.3/103.3 kB\u001b[0m \u001b[31m2.1 MB/s\u001b[0m eta \u001b[36m0:00:00\u001b[0m\n",
            "\u001b[?25hRequirement already satisfied: python-dateutil in /usr/local/lib/python3.10/dist-packages (from python-whois) (2.8.2)\n",
            "Requirement already satisfied: six>=1.5 in /usr/local/lib/python3.10/dist-packages (from python-dateutil->python-whois) (1.16.0)\n",
            "Installing collected packages: python-whois\n"
          ]
        }
      ]
    },
    {
      "cell_type": "code",
      "source": [
        "import whois"
      ],
      "metadata": {
        "id": "HcTQPtNWqsR6"
      },
      "execution_count": 2,
      "outputs": []
    },
    {
      "cell_type": "code",
      "source": [
        "!pip install tldextract"
      ],
      "metadata": {
        "id": "2Ok4K5xaq-ho",
        "outputId": "00fdf637-3cfe-4ebc-dc4d-f8674ac89c72",
        "colab": {
          "base_uri": "https://localhost:8080/"
        }
      },
      "execution_count": 93,
      "outputs": [
        {
          "output_type": "stream",
          "name": "stdout",
          "text": [
            "Requirement already satisfied: tldextract in /usr/local/lib/python3.10/dist-packages (5.1.2)\n",
            "Requirement already satisfied: idna in /usr/local/lib/python3.10/dist-packages (from tldextract) (3.6)\n",
            "Requirement already satisfied: requests>=2.1.0 in /usr/local/lib/python3.10/dist-packages (from tldextract) (2.31.0)\n",
            "Requirement already satisfied: requests-file>=1.4 in /usr/local/lib/python3.10/dist-packages (from tldextract) (2.0.0)\n",
            "Requirement already satisfied: filelock>=3.0.8 in /usr/local/lib/python3.10/dist-packages (from tldextract) (3.13.3)\n",
            "Requirement already satisfied: charset-normalizer<4,>=2 in /usr/local/lib/python3.10/dist-packages (from requests>=2.1.0->tldextract) (3.3.2)\n",
            "Requirement already satisfied: urllib3<3,>=1.21.1 in /usr/local/lib/python3.10/dist-packages (from requests>=2.1.0->tldextract) (2.0.7)\n",
            "Requirement already satisfied: certifi>=2017.4.17 in /usr/local/lib/python3.10/dist-packages (from requests>=2.1.0->tldextract) (2024.2.2)\n"
          ]
        }
      ]
    },
    {
      "cell_type": "code",
      "source": [
        "import tldextract"
      ],
      "metadata": {
        "id": "ah74NznGrBRD"
      },
      "execution_count": 3,
      "outputs": []
    },
    {
      "cell_type": "markdown",
      "metadata": {
        "id": "9Nw7ZlPtPlbr"
      },
      "source": [
        "### Parte 1"
      ]
    },
    {
      "cell_type": "markdown",
      "metadata": {
        "id": "ilDzA359Plbr"
      },
      "source": [
        "Leyendo y guardando el tráfico que es DNS nada más"
      ]
    },
    {
      "cell_type": "code",
      "execution_count": 9,
      "metadata": {
        "id": "TBPMasvuPlbs"
      },
      "outputs": [],
      "source": [
        "with open('./large_eve.json', 'r') as archivo_json, \\\n",
        "        open('./dns_trafico.json', 'w') as archivo_dns:\n",
        "\n",
        "    for linea in archivo_json:\n",
        "        datos = json.loads(linea)\n",
        "        if datos['event_type'] == 'dns':\n",
        "            json.dump(datos, archivo_dns)\n",
        "            archivo_dns.write('\\n')\n",
        "\n",
        "archivo_json.close()\n",
        "archivo_dns.close()"
      ]
    },
    {
      "cell_type": "markdown",
      "metadata": {
        "id": "SWKspKYTPlbt"
      },
      "source": [
        "Enseñando la cantidad de registros"
      ]
    },
    {
      "cell_type": "code",
      "execution_count": 5,
      "metadata": {
        "colab": {
          "base_uri": "https://localhost:8080/"
        },
        "id": "Qb_2H3vOPlbt",
        "outputId": "7e9127be-f519-4bc1-a769-125d3b11a15a"
      },
      "outputs": [
        {
          "metadata": {
            "tags": null
          },
          "name": "stdout",
          "output_type": "stream",
          "text": [
            "Cantidad de registros guardados: 15749\n"
          ]
        }
      ],
      "source": [
        "with open('./dns_trafico.json', 'r') as archivo_dns:\n",
        "    contador_registros = 0\n",
        "\n",
        "    for linea in archivo_dns:\n",
        "        contador_registros += 1\n",
        "\n",
        "print(\"Cantidad de registros guardados:\", contador_registros)"
      ]
    },
    {
      "cell_type": "markdown",
      "metadata": {
        "id": "gG9FrEG3Plbv"
      },
      "source": [
        "Enseñando la información de 2 registros cualesquiera"
      ]
    },
    {
      "cell_type": "code",
      "execution_count": 6,
      "metadata": {
        "colab": {
          "base_uri": "https://localhost:8080/"
        },
        "id": "-FmGX73RPlbv",
        "outputId": "0c3c729f-535f-47a7-c70c-448d79186238"
      },
      "outputs": [
        {
          "metadata": {
            "tags": null
          },
          "name": "stdout",
          "output_type": "stream",
          "text": [
            "Registro 1:\n",
            "{\n",
            "    \"timestamp\": \"2017-07-22T18:01:27.700260-0500\",\n",
            "    \"flow_id\": 540714828541796,\n",
            "    \"pcap_cnt\": 279096,\n",
            "    \"event_type\": \"dns\",\n",
            "    \"vlan\": 110,\n",
            "    \"src_ip\": \"192.168.201.68\",\n",
            "    \"src_port\": 55770,\n",
            "    \"dest_ip\": \"192.168.207.4\",\n",
            "    \"dest_port\": 53,\n",
            "    \"proto\": \"UDP\",\n",
            "    \"dns\": {\n",
            "        \"type\": \"query\",\n",
            "        \"id\": 58371,\n",
            "        \"rrname\": \"secure.informaction.com.localdomain\",\n",
            "        \"rrtype\": \"A\",\n",
            "        \"tx_id\": 0\n",
            "    }\n",
            "}\n",
            "\n",
            "Registro 2:\n",
            "{\n",
            "    \"timestamp\": \"2017-07-22T18:29:18.489627-0500\",\n",
            "    \"flow_id\": 39470779758547,\n",
            "    \"pcap_cnt\": 506573,\n",
            "    \"event_type\": \"dns\",\n",
            "    \"vlan\": 150,\n",
            "    \"src_ip\": \"192.168.207.4\",\n",
            "    \"src_port\": 53,\n",
            "    \"dest_ip\": \"192.168.205.188\",\n",
            "    \"dest_port\": 40118,\n",
            "    \"proto\": \"UDP\",\n",
            "    \"dns\": {\n",
            "        \"type\": \"answer\",\n",
            "        \"id\": 19780,\n",
            "        \"rcode\": \"NXDOMAIN\",\n",
            "        \"rrname\": \"mirrors.ecvps.com\"\n",
            "    }\n",
            "}\n"
          ]
        }
      ],
      "source": [
        "lineas = []\n",
        "\n",
        "with open('./dns_trafico.json', 'r') as archivo_dns:\n",
        "    for linea in archivo_dns:\n",
        "        lineas.append(linea)\n",
        "\n",
        "# Escogiendo dos índices aleatorios dentro del rango de líneas en el archivo\n",
        "indice1 = random.randint(0, len(lineas)-1)\n",
        "indice2 = random.randint(0, len(lineas)-1)\n",
        "\n",
        "# Obteniendo los datos de los registros correspondientes a los índices escogidos\n",
        "registro1 = json.loads(lineas[indice1])\n",
        "registro2 = json.loads(lineas[indice2])\n",
        "\n",
        "\n",
        "print(\"Registro 1:\")\n",
        "print(json.dumps(registro1, indent=4))\n",
        "print(\"\\nRegistro 2:\")\n",
        "print(json.dumps(registro2, indent=4))\n"
      ]
    },
    {
      "cell_type": "markdown",
      "metadata": {
        "id": "9Qm8bkFuPlbw"
      },
      "source": [
        "Normalizando la data"
      ]
    },
    {
      "cell_type": "code",
      "execution_count": 7,
      "metadata": {
        "colab": {
          "base_uri": "https://localhost:8080/"
        },
        "id": "A-t7uvoVPlbw",
        "outputId": "19e7cbb0-6490-4997-fc1a-b4eeca6d9cc3"
      },
      "outputs": [
        {
          "metadata": {
            "tags": null
          },
          "name": "stdout",
          "output_type": "stream",
          "text": [
            "Shape del DataFrame: (15749, 18)\n"
          ]
        }
      ],
      "source": [
        "with open('./dns_trafico.json', 'r') as archivo_dns:\n",
        "    datos = [json.loads(linea) for linea in archivo_dns]\n",
        "\n",
        "# Normalizando los datos\n",
        "df = pd.json_normalize(datos)\n",
        "\n",
        "print(\"Shape del DataFrame:\", df.shape)"
      ]
    },
    {
      "cell_type": "markdown",
      "metadata": {
        "id": "MJJn6vyYPlby"
      },
      "source": [
        "Buscando dominios DGA"
      ]
    },
    {
      "cell_type": "code",
      "execution_count": 8,
      "metadata": {
        "colab": {
          "base_uri": "https://localhost:8080/"
        },
        "id": "5JWg4kB1Plby",
        "outputId": "6f3c9aed-78f2-40a7-f4a0-c34a367eac3a"
      },
      "outputs": [
        {
          "metadata": {
            "tags": null
          },
          "name": "stdout",
          "output_type": "stream",
          "text": [
            "Shape del DataFrame filtrado: 2849\n"
          ]
        }
      ],
      "source": [
        "# Filtrando los registros DNS tipo A\n",
        "registros_tipo_A = df[df['dns.rrtype'] == 'A']\n",
        "\n",
        "print(\"Shape del DataFrame filtrado:\", len(registros_tipo_A))"
      ]
    },
    {
      "cell_type": "markdown",
      "metadata": {
        "id": "bsLR_Gh8Plbz"
      },
      "source": [
        "Filtrando los dominios únicos"
      ]
    },
    {
      "cell_type": "code",
      "execution_count": 12,
      "metadata": {
        "colab": {
          "base_uri": "https://localhost:8080/"
        },
        "id": "NvqCrR27Plbz",
        "outputId": "2ab9fb6d-7145-4633-bf25-3dac68fde25f"
      },
      "outputs": [
        {
          "metadata": {
            "tags": null
          },
          "name": "stdout",
          "output_type": "stream",
          "text": [
            "Cantidad de registros únicos: 334\n"
          ]
        }
      ],
      "source": [
        "# Conjunto para almacenar dominios únicos\n",
        "unique_domains = set()\n",
        "\n",
        "with open('./dns_trafico.json', 'r') as archivo_dns:\n",
        "    for linea in archivo_dns:\n",
        "        datos = json.loads(linea)\n",
        "        # Extrayendo el dominio del campo 'rrname' y agregarlo al conjunto\n",
        "        domain = datos['dns']['rrname']\n",
        "        unique_domains.add(domain)\n",
        "\n",
        "num_unique_domains = len(unique_domains)\n",
        "\n",
        "print(\"Cantidad de registros únicos:\", num_unique_domains)"
      ]
    },
    {
      "cell_type": "markdown",
      "metadata": {
        "id": "3IT1cGKGPlb0"
      },
      "source": [
        "Escribiendo una función que obtengo el TLD para un dominio"
      ]
    },
    {
      "cell_type": "code",
      "execution_count": 14,
      "metadata": {
        "colab": {
          "base_uri": "https://localhost:8080/"
        },
        "id": "9rP5GpAYPlb0",
        "outputId": "83877dfd-1038-46e4-cf6e-5c159e98e049"
      },
      "outputs": [
        {
          "output_type": "stream",
          "name": "stdout",
          "text": [
            "TLD de api.wunderground.com : wunderground\n",
            "TLD de safebrowsing.clients.google.com.home : clients.google.com\n"
          ]
        }
      ],
      "source": [
        "def obtener_TLD(dominio):\n",
        "    # Expresión regular para encontrar el TLD\n",
        "    patron = r'\\.(.*?)\\.(?:com|org|net|gov|edu|int|mil|arpa|biz|info|name|pro|aero|coop|museum|jobs|travel|cat|tel|onion|git|home|local|example|test|invalid|localhost|localdomain)$'\n",
        "    match = re.search(patron, dominio)\n",
        "    if match:\n",
        "        return match.group(1)\n",
        "    else:\n",
        "        return dominio\n",
        "\n",
        "# Ejemplo de uso\n",
        "dominio1 = \"api.wunderground.com\"\n",
        "dominio2 = \"safebrowsing.clients.google.com.home\"\n",
        "\n",
        "print(\"TLD de\", dominio1, \":\", obtener_TLD(dominio1))\n",
        "print(\"TLD de\", dominio2, \":\", obtener_TLD(dominio2))"
      ]
    },
    {
      "cell_type": "markdown",
      "metadata": {
        "id": "6ZWtBrcFPlb1"
      },
      "source": [
        "Prompt utilizado: \"hola, me podrías escribir una función que me obtenga el TLD para un dominio\""
      ]
    },
    {
      "cell_type": "markdown",
      "metadata": {
        "id": "WEWKrXomPlb1"
      },
      "source": [
        "Creando una columna que se llame domain_tld y eliminando las demás columnas"
      ]
    },
    {
      "cell_type": "code",
      "execution_count": 15,
      "metadata": {
        "colab": {
          "base_uri": "https://localhost:8080/"
        },
        "id": "L2Of0vcpPlb2",
        "outputId": "4f31a585-0efa-43d9-ed58-24a684ba5701"
      },
      "outputs": [
        {
          "output_type": "stream",
          "name": "stdout",
          "text": [
            "                        domain_tld\n",
            "0                     wunderground\n",
            "1                          dropbox\n",
            "2      office.aol.com.ad.aol.aoltw\n",
            "3      office.aol.com.ad.aol.aoltw\n",
            "4                           <root>\n",
            "...                            ...\n",
            "15744               start3.mozilla\n",
            "15745                       <root>\n",
            "15746        whitecell.localdomain\n",
            "15747        whitecell.localdomain\n",
            "15748                       <root>\n",
            "\n",
            "[15749 rows x 1 columns]\n"
          ]
        }
      ],
      "source": [
        "if 'domain_tld' not in df.columns:\n",
        "    df['domain_tld'] = df['dns.rrname'].apply(obtener_TLD)\n",
        "\n",
        "    df = df[['domain_tld']]\n",
        "\n",
        "print(df)"
      ]
    },
    {
      "cell_type": "markdown",
      "metadata": {
        "id": "Le6o6Jl0Plb2"
      },
      "source": [
        "### Parte 2"
      ]
    },
    {
      "cell_type": "markdown",
      "metadata": {
        "id": "SPN76boQPlb3"
      },
      "source": [
        "Usando el clasificador proporcionado y creando un nuevo dataframe"
      ]
    },
    {
      "cell_type": "code",
      "execution_count": 16,
      "metadata": {
        "colab": {
          "base_uri": "https://localhost:8080/",
          "height": 496
        },
        "id": "gPnwxYeOPlb3",
        "outputId": "515bd0a6-de3b-4154-9ead-61ab9af21dda"
      },
      "outputs": [
        {
          "output_type": "stream",
          "name": "stderr",
          "text": [
            "/usr/local/lib/python3.10/dist-packages/sklearn/base.py:318: UserWarning: Trying to unpickle estimator DecisionTreeClassifier from version 1.0.2 when using version 1.2.2. This might lead to breaking code or invalid results. Use at your own risk. For more info please refer to:\n",
            "https://scikit-learn.org/stable/model_persistence.html#security-maintainability-limitations\n",
            "  warnings.warn(\n"
          ]
        },
        {
          "output_type": "execute_result",
          "data": {
            "text/plain": [
              "                        domain_tld  isDGA\n",
              "0                     wunderground      1\n",
              "1                          dropbox      0\n",
              "2      office.aol.com.ad.aol.aoltw      1\n",
              "3      office.aol.com.ad.aol.aoltw      1\n",
              "4                           <root>      0\n",
              "...                            ...    ...\n",
              "15744               start3.mozilla      1\n",
              "15745                       <root>      0\n",
              "15746        whitecell.localdomain      0\n",
              "15747        whitecell.localdomain      0\n",
              "15748                       <root>      0\n",
              "\n",
              "[15749 rows x 2 columns]"
            ],
            "text/html": [
              "\n",
              "  <div id=\"df-bc6091c8-e8e2-48d7-a7df-6e9b0093f638\" class=\"colab-df-container\">\n",
              "    <div>\n",
              "<style scoped>\n",
              "    .dataframe tbody tr th:only-of-type {\n",
              "        vertical-align: middle;\n",
              "    }\n",
              "\n",
              "    .dataframe tbody tr th {\n",
              "        vertical-align: top;\n",
              "    }\n",
              "\n",
              "    .dataframe thead th {\n",
              "        text-align: right;\n",
              "    }\n",
              "</style>\n",
              "<table border=\"1\" class=\"dataframe\">\n",
              "  <thead>\n",
              "    <tr style=\"text-align: right;\">\n",
              "      <th></th>\n",
              "      <th>domain_tld</th>\n",
              "      <th>isDGA</th>\n",
              "    </tr>\n",
              "  </thead>\n",
              "  <tbody>\n",
              "    <tr>\n",
              "      <th>0</th>\n",
              "      <td>wunderground</td>\n",
              "      <td>1</td>\n",
              "    </tr>\n",
              "    <tr>\n",
              "      <th>1</th>\n",
              "      <td>dropbox</td>\n",
              "      <td>0</td>\n",
              "    </tr>\n",
              "    <tr>\n",
              "      <th>2</th>\n",
              "      <td>office.aol.com.ad.aol.aoltw</td>\n",
              "      <td>1</td>\n",
              "    </tr>\n",
              "    <tr>\n",
              "      <th>3</th>\n",
              "      <td>office.aol.com.ad.aol.aoltw</td>\n",
              "      <td>1</td>\n",
              "    </tr>\n",
              "    <tr>\n",
              "      <th>4</th>\n",
              "      <td>&lt;root&gt;</td>\n",
              "      <td>0</td>\n",
              "    </tr>\n",
              "    <tr>\n",
              "      <th>...</th>\n",
              "      <td>...</td>\n",
              "      <td>...</td>\n",
              "    </tr>\n",
              "    <tr>\n",
              "      <th>15744</th>\n",
              "      <td>start3.mozilla</td>\n",
              "      <td>1</td>\n",
              "    </tr>\n",
              "    <tr>\n",
              "      <th>15745</th>\n",
              "      <td>&lt;root&gt;</td>\n",
              "      <td>0</td>\n",
              "    </tr>\n",
              "    <tr>\n",
              "      <th>15746</th>\n",
              "      <td>whitecell.localdomain</td>\n",
              "      <td>0</td>\n",
              "    </tr>\n",
              "    <tr>\n",
              "      <th>15747</th>\n",
              "      <td>whitecell.localdomain</td>\n",
              "      <td>0</td>\n",
              "    </tr>\n",
              "    <tr>\n",
              "      <th>15748</th>\n",
              "      <td>&lt;root&gt;</td>\n",
              "      <td>0</td>\n",
              "    </tr>\n",
              "  </tbody>\n",
              "</table>\n",
              "<p>15749 rows × 2 columns</p>\n",
              "</div>\n",
              "    <div class=\"colab-df-buttons\">\n",
              "\n",
              "  <div class=\"colab-df-container\">\n",
              "    <button class=\"colab-df-convert\" onclick=\"convertToInteractive('df-bc6091c8-e8e2-48d7-a7df-6e9b0093f638')\"\n",
              "            title=\"Convert this dataframe to an interactive table.\"\n",
              "            style=\"display:none;\">\n",
              "\n",
              "  <svg xmlns=\"http://www.w3.org/2000/svg\" height=\"24px\" viewBox=\"0 -960 960 960\">\n",
              "    <path d=\"M120-120v-720h720v720H120Zm60-500h600v-160H180v160Zm220 220h160v-160H400v160Zm0 220h160v-160H400v160ZM180-400h160v-160H180v160Zm440 0h160v-160H620v160ZM180-180h160v-160H180v160Zm440 0h160v-160H620v160Z\"/>\n",
              "  </svg>\n",
              "    </button>\n",
              "\n",
              "  <style>\n",
              "    .colab-df-container {\n",
              "      display:flex;\n",
              "      gap: 12px;\n",
              "    }\n",
              "\n",
              "    .colab-df-convert {\n",
              "      background-color: #E8F0FE;\n",
              "      border: none;\n",
              "      border-radius: 50%;\n",
              "      cursor: pointer;\n",
              "      display: none;\n",
              "      fill: #1967D2;\n",
              "      height: 32px;\n",
              "      padding: 0 0 0 0;\n",
              "      width: 32px;\n",
              "    }\n",
              "\n",
              "    .colab-df-convert:hover {\n",
              "      background-color: #E2EBFA;\n",
              "      box-shadow: 0px 1px 2px rgba(60, 64, 67, 0.3), 0px 1px 3px 1px rgba(60, 64, 67, 0.15);\n",
              "      fill: #174EA6;\n",
              "    }\n",
              "\n",
              "    .colab-df-buttons div {\n",
              "      margin-bottom: 4px;\n",
              "    }\n",
              "\n",
              "    [theme=dark] .colab-df-convert {\n",
              "      background-color: #3B4455;\n",
              "      fill: #D2E3FC;\n",
              "    }\n",
              "\n",
              "    [theme=dark] .colab-df-convert:hover {\n",
              "      background-color: #434B5C;\n",
              "      box-shadow: 0px 1px 3px 1px rgba(0, 0, 0, 0.15);\n",
              "      filter: drop-shadow(0px 1px 2px rgba(0, 0, 0, 0.3));\n",
              "      fill: #FFFFFF;\n",
              "    }\n",
              "  </style>\n",
              "\n",
              "    <script>\n",
              "      const buttonEl =\n",
              "        document.querySelector('#df-bc6091c8-e8e2-48d7-a7df-6e9b0093f638 button.colab-df-convert');\n",
              "      buttonEl.style.display =\n",
              "        google.colab.kernel.accessAllowed ? 'block' : 'none';\n",
              "\n",
              "      async function convertToInteractive(key) {\n",
              "        const element = document.querySelector('#df-bc6091c8-e8e2-48d7-a7df-6e9b0093f638');\n",
              "        const dataTable =\n",
              "          await google.colab.kernel.invokeFunction('convertToInteractive',\n",
              "                                                    [key], {});\n",
              "        if (!dataTable) return;\n",
              "\n",
              "        const docLinkHtml = 'Like what you see? Visit the ' +\n",
              "          '<a target=\"_blank\" href=https://colab.research.google.com/notebooks/data_table.ipynb>data table notebook</a>'\n",
              "          + ' to learn more about interactive tables.';\n",
              "        element.innerHTML = '';\n",
              "        dataTable['output_type'] = 'display_data';\n",
              "        await google.colab.output.renderOutput(dataTable, element);\n",
              "        const docLink = document.createElement('div');\n",
              "        docLink.innerHTML = docLinkHtml;\n",
              "        element.appendChild(docLink);\n",
              "      }\n",
              "    </script>\n",
              "  </div>\n",
              "\n",
              "\n",
              "<div id=\"df-05a89cee-c126-4a65-8bf0-b3ba90cebf2a\">\n",
              "  <button class=\"colab-df-quickchart\" onclick=\"quickchart('df-05a89cee-c126-4a65-8bf0-b3ba90cebf2a')\"\n",
              "            title=\"Suggest charts\"\n",
              "            style=\"display:none;\">\n",
              "\n",
              "<svg xmlns=\"http://www.w3.org/2000/svg\" height=\"24px\"viewBox=\"0 0 24 24\"\n",
              "     width=\"24px\">\n",
              "    <g>\n",
              "        <path d=\"M19 3H5c-1.1 0-2 .9-2 2v14c0 1.1.9 2 2 2h14c1.1 0 2-.9 2-2V5c0-1.1-.9-2-2-2zM9 17H7v-7h2v7zm4 0h-2V7h2v10zm4 0h-2v-4h2v4z\"/>\n",
              "    </g>\n",
              "</svg>\n",
              "  </button>\n",
              "\n",
              "<style>\n",
              "  .colab-df-quickchart {\n",
              "      --bg-color: #E8F0FE;\n",
              "      --fill-color: #1967D2;\n",
              "      --hover-bg-color: #E2EBFA;\n",
              "      --hover-fill-color: #174EA6;\n",
              "      --disabled-fill-color: #AAA;\n",
              "      --disabled-bg-color: #DDD;\n",
              "  }\n",
              "\n",
              "  [theme=dark] .colab-df-quickchart {\n",
              "      --bg-color: #3B4455;\n",
              "      --fill-color: #D2E3FC;\n",
              "      --hover-bg-color: #434B5C;\n",
              "      --hover-fill-color: #FFFFFF;\n",
              "      --disabled-bg-color: #3B4455;\n",
              "      --disabled-fill-color: #666;\n",
              "  }\n",
              "\n",
              "  .colab-df-quickchart {\n",
              "    background-color: var(--bg-color);\n",
              "    border: none;\n",
              "    border-radius: 50%;\n",
              "    cursor: pointer;\n",
              "    display: none;\n",
              "    fill: var(--fill-color);\n",
              "    height: 32px;\n",
              "    padding: 0;\n",
              "    width: 32px;\n",
              "  }\n",
              "\n",
              "  .colab-df-quickchart:hover {\n",
              "    background-color: var(--hover-bg-color);\n",
              "    box-shadow: 0 1px 2px rgba(60, 64, 67, 0.3), 0 1px 3px 1px rgba(60, 64, 67, 0.15);\n",
              "    fill: var(--button-hover-fill-color);\n",
              "  }\n",
              "\n",
              "  .colab-df-quickchart-complete:disabled,\n",
              "  .colab-df-quickchart-complete:disabled:hover {\n",
              "    background-color: var(--disabled-bg-color);\n",
              "    fill: var(--disabled-fill-color);\n",
              "    box-shadow: none;\n",
              "  }\n",
              "\n",
              "  .colab-df-spinner {\n",
              "    border: 2px solid var(--fill-color);\n",
              "    border-color: transparent;\n",
              "    border-bottom-color: var(--fill-color);\n",
              "    animation:\n",
              "      spin 1s steps(1) infinite;\n",
              "  }\n",
              "\n",
              "  @keyframes spin {\n",
              "    0% {\n",
              "      border-color: transparent;\n",
              "      border-bottom-color: var(--fill-color);\n",
              "      border-left-color: var(--fill-color);\n",
              "    }\n",
              "    20% {\n",
              "      border-color: transparent;\n",
              "      border-left-color: var(--fill-color);\n",
              "      border-top-color: var(--fill-color);\n",
              "    }\n",
              "    30% {\n",
              "      border-color: transparent;\n",
              "      border-left-color: var(--fill-color);\n",
              "      border-top-color: var(--fill-color);\n",
              "      border-right-color: var(--fill-color);\n",
              "    }\n",
              "    40% {\n",
              "      border-color: transparent;\n",
              "      border-right-color: var(--fill-color);\n",
              "      border-top-color: var(--fill-color);\n",
              "    }\n",
              "    60% {\n",
              "      border-color: transparent;\n",
              "      border-right-color: var(--fill-color);\n",
              "    }\n",
              "    80% {\n",
              "      border-color: transparent;\n",
              "      border-right-color: var(--fill-color);\n",
              "      border-bottom-color: var(--fill-color);\n",
              "    }\n",
              "    90% {\n",
              "      border-color: transparent;\n",
              "      border-bottom-color: var(--fill-color);\n",
              "    }\n",
              "  }\n",
              "</style>\n",
              "\n",
              "  <script>\n",
              "    async function quickchart(key) {\n",
              "      const quickchartButtonEl =\n",
              "        document.querySelector('#' + key + ' button');\n",
              "      quickchartButtonEl.disabled = true;  // To prevent multiple clicks.\n",
              "      quickchartButtonEl.classList.add('colab-df-spinner');\n",
              "      try {\n",
              "        const charts = await google.colab.kernel.invokeFunction(\n",
              "            'suggestCharts', [key], {});\n",
              "      } catch (error) {\n",
              "        console.error('Error during call to suggestCharts:', error);\n",
              "      }\n",
              "      quickchartButtonEl.classList.remove('colab-df-spinner');\n",
              "      quickchartButtonEl.classList.add('colab-df-quickchart-complete');\n",
              "    }\n",
              "    (() => {\n",
              "      let quickchartButtonEl =\n",
              "        document.querySelector('#df-05a89cee-c126-4a65-8bf0-b3ba90cebf2a button');\n",
              "      quickchartButtonEl.style.display =\n",
              "        google.colab.kernel.accessAllowed ? 'block' : 'none';\n",
              "    })();\n",
              "  </script>\n",
              "</div>\n",
              "    </div>\n",
              "  </div>\n"
            ],
            "application/vnd.google.colaboratory.intrinsic+json": {
              "type": "dataframe",
              "variable_name": "result",
              "summary": "{\n  \"name\": \"result\",\n  \"rows\": 15749,\n  \"fields\": [\n    {\n      \"column\": \"domain_tld\",\n      \"properties\": {\n        \"dtype\": \"category\",\n        \"num_unique_values\": 177,\n        \"samples\": [\n          \"_dns-sd._udp.0.1.168.192.in-addr\",\n          \"26.168.192.in-addr\",\n          \"192.168.21.1201\"\n        ],\n        \"semantic_type\": \"\",\n        \"description\": \"\"\n      }\n    },\n    {\n      \"column\": \"isDGA\",\n      \"properties\": {\n        \"dtype\": \"number\",\n        \"std\": 0,\n        \"min\": 0,\n        \"max\": 1,\n        \"num_unique_values\": 2,\n        \"samples\": [\n          0,\n          1\n        ],\n        \"semantic_type\": \"\",\n        \"description\": \"\"\n      }\n    }\n  ]\n}"
            }
          },
          "metadata": {},
          "execution_count": 16
        }
      ],
      "source": [
        "df\n",
        "\n",
        "result = clasificacion(df)\n",
        "\n",
        "result"
      ]
    },
    {
      "cell_type": "markdown",
      "source": [
        "Filtrando aquellos que son DGA y enseñándolos."
      ],
      "metadata": {
        "id": "E8C6o3HmQOyk"
      }
    },
    {
      "cell_type": "code",
      "source": [
        "# Filtrando aquellos considerados como DGA (valor 1)\n",
        "result = result[result['isDGA'] == 1]\n",
        "\n",
        "print(\"Registros considerados como DGA:\")\n",
        "print(result)\n",
        "\n",
        "# Eliminando duplicados\n",
        "result_unique = result.drop_duplicates()\n",
        "\n",
        "\n",
        "print(\"\\nCantidad de registros únicos después de eliminar duplicados:\", len(result_unique))"
      ],
      "metadata": {
        "colab": {
          "base_uri": "https://localhost:8080/"
        },
        "id": "yt5wEStrQzmz",
        "outputId": "c3eaa87f-2cdf-4390-920b-498db2d0ebbe"
      },
      "execution_count": 17,
      "outputs": [
        {
          "output_type": "stream",
          "name": "stdout",
          "text": [
            "Registros considerados como DGA:\n",
            "                              domain_tld  isDGA\n",
            "0                           wunderground      1\n",
            "2            office.aol.com.ad.aol.aoltw      1\n",
            "3            office.aol.com.ad.aol.aoltw      1\n",
            "5                           wunderground      1\n",
            "21           office.aol.com.ad.aol.aoltw      1\n",
            "...                                  ...    ...\n",
            "15735  _dns-sd._udp.0.195.16.172.in-addr      1\n",
            "15740                 26.168.192.in-addr      1\n",
            "15741                 26.168.192.in-addr      1\n",
            "15743                     start3.mozilla      1\n",
            "15744                     start3.mozilla      1\n",
            "\n",
            "[3525 rows x 2 columns]\n",
            "\n",
            "Cantidad de registros únicos después de eliminar duplicados: 71\n"
          ]
        }
      ]
    },
    {
      "cell_type": "markdown",
      "source": [
        "### Parte 3 - Dominio experto"
      ],
      "metadata": {
        "id": "Bf2-aLHSRcrn"
      }
    },
    {
      "cell_type": "markdown",
      "source": [
        "hola, me podrías hacer un código que lo que haga es obtener todos los tld de un dataset como este\n",
        "\n",
        "\n",
        "id,domain\n",
        "1,google.com\n",
        "2,www.google.com\n",
        "3,microsoft.com\n",
        "4,data.microsoft.com\n",
        "5,events.data.microsoft.com\n",
        "6,live.com\n",
        "7,office.com\n",
        "8,apple.com\n",
        "\n",
        "en donde su resultado debe ser 0 si el TLD se encuentra en la list y 1 si no existe."
      ],
      "metadata": {
        "id": "syAcslqRSOGS"
      }
    },
    {
      "cell_type": "code",
      "source": [
        "data = pd.read_csv(\"top-1m.csv\")\n",
        "\n",
        "dataframe = pd.DataFrame(data)\n",
        "\n",
        "print(result_unique)\n",
        "\n",
        "allowed_tlds = set(result_unique[\"domain_tld\"])\n",
        "\n",
        "# Función para verificar si el TLD está permitido\n",
        "def check_tld(domain):\n",
        "    if pd.isnull(domain):  # Manejando valores nulos\n",
        "        return 1\n",
        "    tld = domain.split('.')[-1]\n",
        "    if tld in allowed_tlds:\n",
        "        return 0\n",
        "    else:\n",
        "        return 1"
      ],
      "metadata": {
        "colab": {
          "base_uri": "https://localhost:8080/"
        },
        "id": "y99BQXAKRnu1",
        "outputId": "b5f6b80a-4823-4f7d-cf4b-88e91d63ce6d"
      },
      "execution_count": 18,
      "outputs": [
        {
          "output_type": "stream",
          "name": "stdout",
          "text": [
            "                               domain_tld  isDGA\n",
            "0                            wunderground      1\n",
            "2             office.aol.com.ad.aol.aoltw      1\n",
            "81                     21.168.192.in-addr      1\n",
            "94                     22.168.192.in-addr      1\n",
            "117    _dns-sd._udp.0.108.168.192.in-addr      1\n",
            "...                                   ...    ...\n",
            "10607                     192.168.21-28.0      1\n",
            "10646                ejfodfmfxlkgifuf.xyz      1\n",
            "14730                         168.21-28.0      1\n",
            "15507                     192.168.22.201:      1\n",
            "15716              168.22.201:.stayonline      1\n",
            "\n",
            "[71 rows x 2 columns]\n"
          ]
        },
        {
          "output_type": "stream",
          "name": "stderr",
          "text": [
            "<ipython-input-18-4530e1c87829>:1: DtypeWarning: Columns (0) have mixed types. Specify dtype option on import or set low_memory=False.\n",
            "  data = pd.read_csv(\"top-1m.csv\")\n"
          ]
        }
      ]
    },
    {
      "cell_type": "markdown",
      "source": [
        "Usar la función para determinan si los TLD se encuentran en dicha lista. Filtrar aquellos que si se encuentran."
      ],
      "metadata": {
        "id": "QxHdFM1gkdV_"
      }
    },
    {
      "cell_type": "code",
      "source": [
        "# Aplicando la función a la columna 'domain' del DataFrame\n",
        "dataframe['result'] = dataframe['domain'].apply(check_tld)\n",
        "\n",
        "filtered_df = dataframe[dataframe['result'] == 0]\n",
        "\n",
        "filtered_df = filtered_df.drop_duplicates(subset=['domain'])\n",
        "\n",
        "print(filtered_df)\n",
        "\n",
        "print(\"Cantidad de resultados: \")\n",
        "print(len(filtered_df))"
      ],
      "metadata": {
        "id": "EMJ8rUhrpJOy",
        "outputId": "306a5d35-79bf-4330-f92b-44ee6b68b048",
        "colab": {
          "base_uri": "https://localhost:8080/"
        }
      },
      "execution_count": 19,
      "outputs": [
        {
          "output_type": "stream",
          "name": "stdout",
          "text": [
            "             id                             domain  result\n",
            "1394       1395                    cloud.microsoft       0\n",
            "2286       2287                   static.microsoft       0\n",
            "3113       3114            outlook.cloud.microsoft       0\n",
            "3121       3122              teams.cloud.microsoft       0\n",
            "3666       3667     otelrules.svc.static.microsoft       0\n",
            "...         ...                                ...     ...\n",
            "810555   778969               loop.cloud.microsoft       0\n",
            "811771   780185     rssfeed.azure.status.microsoft       0\n",
            "969734   938148  nam.sessions.mesh.cloud.microsoft       0\n",
            "1009442  977856            hrd.svc.cloud.microsoft       0\n",
            "1010652  979066       msit.hrd.svc.cloud.microsoft       0\n",
            "\n",
            "[83 rows x 3 columns]\n",
            "Cantidad de resultados: \n",
            "83\n"
          ]
        }
      ]
    },
    {
      "cell_type": "markdown",
      "source": [
        "Buscando la fecha de creación del TLD en base a este dataset\n",
        "\n",
        "            id                             domain  result\n",
        "1394       1395                    cloud.microsoft       0\n",
        "2286       2287                   static.microsoft       0\n",
        "3113       3114            outlook.cloud.microsoft       0\n",
        "3121       3122              teams.cloud.microsoft       0\n",
        "3666       3667     otelrules.svc.static.microsoft       0\n",
        "...         ...                                ...     ...\n",
        "810555   778969               loop.cloud.microsoft       0\n",
        "811771   780185     rssfeed.azure.status.microsoft       0\n",
        "969734   938148  nam.sessions.mesh.cloud.microsoft       0\n",
        "1009442  977856            hrd.svc.cloud.microsoft       0\n",
        "1010652  979066       msit.hrd.svc.cloud.microsoft       0\n",
        "\n",
        "[83 rows x 3 columns]\n",
        "Cantidad de resultados:\n",
        "83"
      ],
      "metadata": {
        "id": "5pbB9Q4vqHm8"
      }
    },
    {
      "cell_type": "code",
      "source": [
        "def get_creation_date(tld):\n",
        "    try:\n",
        "        domain = whois.whois(tld)\n",
        "        return domain.creation_date\n",
        "    except Exception as e:\n",
        "        print(f\"Error obteniendo información WHOIS para {tld}: {e}\")\n",
        "        return None"
      ],
      "metadata": {
        "id": "lGNwFXPEqU0M"
      },
      "execution_count": 28,
      "outputs": []
    },
    {
      "cell_type": "code",
      "source": [
        "filtered_df"
      ],
      "metadata": {
        "id": "J1zUitlJtlnR",
        "outputId": "2e68c9bc-7633-4f15-e597-e6ee52e4e5a3",
        "colab": {
          "base_uri": "https://localhost:8080/",
          "height": 424
        }
      },
      "execution_count": 26,
      "outputs": [
        {
          "output_type": "execute_result",
          "data": {
            "text/plain": [
              "             id                             domain  result        tld  \\\n",
              "1394       1395                    cloud.microsoft       0  microsoft   \n",
              "2286       2287                   static.microsoft       0  microsoft   \n",
              "3113       3114            outlook.cloud.microsoft       0  microsoft   \n",
              "3121       3122              teams.cloud.microsoft       0  microsoft   \n",
              "3666       3667     otelrules.svc.static.microsoft       0  microsoft   \n",
              "...         ...                                ...     ...        ...   \n",
              "810555   778969               loop.cloud.microsoft       0  microsoft   \n",
              "811771   780185     rssfeed.azure.status.microsoft       0  microsoft   \n",
              "969734   938148  nam.sessions.mesh.cloud.microsoft       0  microsoft   \n",
              "1009442  977856            hrd.svc.cloud.microsoft       0  microsoft   \n",
              "1010652  979066       msit.hrd.svc.cloud.microsoft       0  microsoft   \n",
              "\n",
              "        creation_date  \n",
              "1394             None  \n",
              "2286             None  \n",
              "3113             None  \n",
              "3121             None  \n",
              "3666             None  \n",
              "...               ...  \n",
              "810555           None  \n",
              "811771           None  \n",
              "969734           None  \n",
              "1009442          None  \n",
              "1010652          None  \n",
              "\n",
              "[83 rows x 5 columns]"
            ],
            "text/html": [
              "\n",
              "  <div id=\"df-16d50201-d385-4bc5-9e9d-fb3f00236bcd\" class=\"colab-df-container\">\n",
              "    <div>\n",
              "<style scoped>\n",
              "    .dataframe tbody tr th:only-of-type {\n",
              "        vertical-align: middle;\n",
              "    }\n",
              "\n",
              "    .dataframe tbody tr th {\n",
              "        vertical-align: top;\n",
              "    }\n",
              "\n",
              "    .dataframe thead th {\n",
              "        text-align: right;\n",
              "    }\n",
              "</style>\n",
              "<table border=\"1\" class=\"dataframe\">\n",
              "  <thead>\n",
              "    <tr style=\"text-align: right;\">\n",
              "      <th></th>\n",
              "      <th>id</th>\n",
              "      <th>domain</th>\n",
              "      <th>result</th>\n",
              "      <th>tld</th>\n",
              "      <th>creation_date</th>\n",
              "    </tr>\n",
              "  </thead>\n",
              "  <tbody>\n",
              "    <tr>\n",
              "      <th>1394</th>\n",
              "      <td>1395</td>\n",
              "      <td>cloud.microsoft</td>\n",
              "      <td>0</td>\n",
              "      <td>microsoft</td>\n",
              "      <td>None</td>\n",
              "    </tr>\n",
              "    <tr>\n",
              "      <th>2286</th>\n",
              "      <td>2287</td>\n",
              "      <td>static.microsoft</td>\n",
              "      <td>0</td>\n",
              "      <td>microsoft</td>\n",
              "      <td>None</td>\n",
              "    </tr>\n",
              "    <tr>\n",
              "      <th>3113</th>\n",
              "      <td>3114</td>\n",
              "      <td>outlook.cloud.microsoft</td>\n",
              "      <td>0</td>\n",
              "      <td>microsoft</td>\n",
              "      <td>None</td>\n",
              "    </tr>\n",
              "    <tr>\n",
              "      <th>3121</th>\n",
              "      <td>3122</td>\n",
              "      <td>teams.cloud.microsoft</td>\n",
              "      <td>0</td>\n",
              "      <td>microsoft</td>\n",
              "      <td>None</td>\n",
              "    </tr>\n",
              "    <tr>\n",
              "      <th>3666</th>\n",
              "      <td>3667</td>\n",
              "      <td>otelrules.svc.static.microsoft</td>\n",
              "      <td>0</td>\n",
              "      <td>microsoft</td>\n",
              "      <td>None</td>\n",
              "    </tr>\n",
              "    <tr>\n",
              "      <th>...</th>\n",
              "      <td>...</td>\n",
              "      <td>...</td>\n",
              "      <td>...</td>\n",
              "      <td>...</td>\n",
              "      <td>...</td>\n",
              "    </tr>\n",
              "    <tr>\n",
              "      <th>810555</th>\n",
              "      <td>778969</td>\n",
              "      <td>loop.cloud.microsoft</td>\n",
              "      <td>0</td>\n",
              "      <td>microsoft</td>\n",
              "      <td>None</td>\n",
              "    </tr>\n",
              "    <tr>\n",
              "      <th>811771</th>\n",
              "      <td>780185</td>\n",
              "      <td>rssfeed.azure.status.microsoft</td>\n",
              "      <td>0</td>\n",
              "      <td>microsoft</td>\n",
              "      <td>None</td>\n",
              "    </tr>\n",
              "    <tr>\n",
              "      <th>969734</th>\n",
              "      <td>938148</td>\n",
              "      <td>nam.sessions.mesh.cloud.microsoft</td>\n",
              "      <td>0</td>\n",
              "      <td>microsoft</td>\n",
              "      <td>None</td>\n",
              "    </tr>\n",
              "    <tr>\n",
              "      <th>1009442</th>\n",
              "      <td>977856</td>\n",
              "      <td>hrd.svc.cloud.microsoft</td>\n",
              "      <td>0</td>\n",
              "      <td>microsoft</td>\n",
              "      <td>None</td>\n",
              "    </tr>\n",
              "    <tr>\n",
              "      <th>1010652</th>\n",
              "      <td>979066</td>\n",
              "      <td>msit.hrd.svc.cloud.microsoft</td>\n",
              "      <td>0</td>\n",
              "      <td>microsoft</td>\n",
              "      <td>None</td>\n",
              "    </tr>\n",
              "  </tbody>\n",
              "</table>\n",
              "<p>83 rows × 5 columns</p>\n",
              "</div>\n",
              "    <div class=\"colab-df-buttons\">\n",
              "\n",
              "  <div class=\"colab-df-container\">\n",
              "    <button class=\"colab-df-convert\" onclick=\"convertToInteractive('df-16d50201-d385-4bc5-9e9d-fb3f00236bcd')\"\n",
              "            title=\"Convert this dataframe to an interactive table.\"\n",
              "            style=\"display:none;\">\n",
              "\n",
              "  <svg xmlns=\"http://www.w3.org/2000/svg\" height=\"24px\" viewBox=\"0 -960 960 960\">\n",
              "    <path d=\"M120-120v-720h720v720H120Zm60-500h600v-160H180v160Zm220 220h160v-160H400v160Zm0 220h160v-160H400v160ZM180-400h160v-160H180v160Zm440 0h160v-160H620v160ZM180-180h160v-160H180v160Zm440 0h160v-160H620v160Z\"/>\n",
              "  </svg>\n",
              "    </button>\n",
              "\n",
              "  <style>\n",
              "    .colab-df-container {\n",
              "      display:flex;\n",
              "      gap: 12px;\n",
              "    }\n",
              "\n",
              "    .colab-df-convert {\n",
              "      background-color: #E8F0FE;\n",
              "      border: none;\n",
              "      border-radius: 50%;\n",
              "      cursor: pointer;\n",
              "      display: none;\n",
              "      fill: #1967D2;\n",
              "      height: 32px;\n",
              "      padding: 0 0 0 0;\n",
              "      width: 32px;\n",
              "    }\n",
              "\n",
              "    .colab-df-convert:hover {\n",
              "      background-color: #E2EBFA;\n",
              "      box-shadow: 0px 1px 2px rgba(60, 64, 67, 0.3), 0px 1px 3px 1px rgba(60, 64, 67, 0.15);\n",
              "      fill: #174EA6;\n",
              "    }\n",
              "\n",
              "    .colab-df-buttons div {\n",
              "      margin-bottom: 4px;\n",
              "    }\n",
              "\n",
              "    [theme=dark] .colab-df-convert {\n",
              "      background-color: #3B4455;\n",
              "      fill: #D2E3FC;\n",
              "    }\n",
              "\n",
              "    [theme=dark] .colab-df-convert:hover {\n",
              "      background-color: #434B5C;\n",
              "      box-shadow: 0px 1px 3px 1px rgba(0, 0, 0, 0.15);\n",
              "      filter: drop-shadow(0px 1px 2px rgba(0, 0, 0, 0.3));\n",
              "      fill: #FFFFFF;\n",
              "    }\n",
              "  </style>\n",
              "\n",
              "    <script>\n",
              "      const buttonEl =\n",
              "        document.querySelector('#df-16d50201-d385-4bc5-9e9d-fb3f00236bcd button.colab-df-convert');\n",
              "      buttonEl.style.display =\n",
              "        google.colab.kernel.accessAllowed ? 'block' : 'none';\n",
              "\n",
              "      async function convertToInteractive(key) {\n",
              "        const element = document.querySelector('#df-16d50201-d385-4bc5-9e9d-fb3f00236bcd');\n",
              "        const dataTable =\n",
              "          await google.colab.kernel.invokeFunction('convertToInteractive',\n",
              "                                                    [key], {});\n",
              "        if (!dataTable) return;\n",
              "\n",
              "        const docLinkHtml = 'Like what you see? Visit the ' +\n",
              "          '<a target=\"_blank\" href=https://colab.research.google.com/notebooks/data_table.ipynb>data table notebook</a>'\n",
              "          + ' to learn more about interactive tables.';\n",
              "        element.innerHTML = '';\n",
              "        dataTable['output_type'] = 'display_data';\n",
              "        await google.colab.output.renderOutput(dataTable, element);\n",
              "        const docLink = document.createElement('div');\n",
              "        docLink.innerHTML = docLinkHtml;\n",
              "        element.appendChild(docLink);\n",
              "      }\n",
              "    </script>\n",
              "  </div>\n",
              "\n",
              "\n",
              "<div id=\"df-217c1a82-1bd2-4f77-8215-44ebc4de8522\">\n",
              "  <button class=\"colab-df-quickchart\" onclick=\"quickchart('df-217c1a82-1bd2-4f77-8215-44ebc4de8522')\"\n",
              "            title=\"Suggest charts\"\n",
              "            style=\"display:none;\">\n",
              "\n",
              "<svg xmlns=\"http://www.w3.org/2000/svg\" height=\"24px\"viewBox=\"0 0 24 24\"\n",
              "     width=\"24px\">\n",
              "    <g>\n",
              "        <path d=\"M19 3H5c-1.1 0-2 .9-2 2v14c0 1.1.9 2 2 2h14c1.1 0 2-.9 2-2V5c0-1.1-.9-2-2-2zM9 17H7v-7h2v7zm4 0h-2V7h2v10zm4 0h-2v-4h2v4z\"/>\n",
              "    </g>\n",
              "</svg>\n",
              "  </button>\n",
              "\n",
              "<style>\n",
              "  .colab-df-quickchart {\n",
              "      --bg-color: #E8F0FE;\n",
              "      --fill-color: #1967D2;\n",
              "      --hover-bg-color: #E2EBFA;\n",
              "      --hover-fill-color: #174EA6;\n",
              "      --disabled-fill-color: #AAA;\n",
              "      --disabled-bg-color: #DDD;\n",
              "  }\n",
              "\n",
              "  [theme=dark] .colab-df-quickchart {\n",
              "      --bg-color: #3B4455;\n",
              "      --fill-color: #D2E3FC;\n",
              "      --hover-bg-color: #434B5C;\n",
              "      --hover-fill-color: #FFFFFF;\n",
              "      --disabled-bg-color: #3B4455;\n",
              "      --disabled-fill-color: #666;\n",
              "  }\n",
              "\n",
              "  .colab-df-quickchart {\n",
              "    background-color: var(--bg-color);\n",
              "    border: none;\n",
              "    border-radius: 50%;\n",
              "    cursor: pointer;\n",
              "    display: none;\n",
              "    fill: var(--fill-color);\n",
              "    height: 32px;\n",
              "    padding: 0;\n",
              "    width: 32px;\n",
              "  }\n",
              "\n",
              "  .colab-df-quickchart:hover {\n",
              "    background-color: var(--hover-bg-color);\n",
              "    box-shadow: 0 1px 2px rgba(60, 64, 67, 0.3), 0 1px 3px 1px rgba(60, 64, 67, 0.15);\n",
              "    fill: var(--button-hover-fill-color);\n",
              "  }\n",
              "\n",
              "  .colab-df-quickchart-complete:disabled,\n",
              "  .colab-df-quickchart-complete:disabled:hover {\n",
              "    background-color: var(--disabled-bg-color);\n",
              "    fill: var(--disabled-fill-color);\n",
              "    box-shadow: none;\n",
              "  }\n",
              "\n",
              "  .colab-df-spinner {\n",
              "    border: 2px solid var(--fill-color);\n",
              "    border-color: transparent;\n",
              "    border-bottom-color: var(--fill-color);\n",
              "    animation:\n",
              "      spin 1s steps(1) infinite;\n",
              "  }\n",
              "\n",
              "  @keyframes spin {\n",
              "    0% {\n",
              "      border-color: transparent;\n",
              "      border-bottom-color: var(--fill-color);\n",
              "      border-left-color: var(--fill-color);\n",
              "    }\n",
              "    20% {\n",
              "      border-color: transparent;\n",
              "      border-left-color: var(--fill-color);\n",
              "      border-top-color: var(--fill-color);\n",
              "    }\n",
              "    30% {\n",
              "      border-color: transparent;\n",
              "      border-left-color: var(--fill-color);\n",
              "      border-top-color: var(--fill-color);\n",
              "      border-right-color: var(--fill-color);\n",
              "    }\n",
              "    40% {\n",
              "      border-color: transparent;\n",
              "      border-right-color: var(--fill-color);\n",
              "      border-top-color: var(--fill-color);\n",
              "    }\n",
              "    60% {\n",
              "      border-color: transparent;\n",
              "      border-right-color: var(--fill-color);\n",
              "    }\n",
              "    80% {\n",
              "      border-color: transparent;\n",
              "      border-right-color: var(--fill-color);\n",
              "      border-bottom-color: var(--fill-color);\n",
              "    }\n",
              "    90% {\n",
              "      border-color: transparent;\n",
              "      border-bottom-color: var(--fill-color);\n",
              "    }\n",
              "  }\n",
              "</style>\n",
              "\n",
              "  <script>\n",
              "    async function quickchart(key) {\n",
              "      const quickchartButtonEl =\n",
              "        document.querySelector('#' + key + ' button');\n",
              "      quickchartButtonEl.disabled = true;  // To prevent multiple clicks.\n",
              "      quickchartButtonEl.classList.add('colab-df-spinner');\n",
              "      try {\n",
              "        const charts = await google.colab.kernel.invokeFunction(\n",
              "            'suggestCharts', [key], {});\n",
              "      } catch (error) {\n",
              "        console.error('Error during call to suggestCharts:', error);\n",
              "      }\n",
              "      quickchartButtonEl.classList.remove('colab-df-spinner');\n",
              "      quickchartButtonEl.classList.add('colab-df-quickchart-complete');\n",
              "    }\n",
              "    (() => {\n",
              "      let quickchartButtonEl =\n",
              "        document.querySelector('#df-217c1a82-1bd2-4f77-8215-44ebc4de8522 button');\n",
              "      quickchartButtonEl.style.display =\n",
              "        google.colab.kernel.accessAllowed ? 'block' : 'none';\n",
              "    })();\n",
              "  </script>\n",
              "</div>\n",
              "    </div>\n",
              "  </div>\n"
            ],
            "application/vnd.google.colaboratory.intrinsic+json": {
              "type": "dataframe",
              "variable_name": "filtered_df",
              "repr_error": "0"
            }
          },
          "metadata": {},
          "execution_count": 26
        }
      ]
    },
    {
      "cell_type": "markdown",
      "source": [
        "Enseñando la fecha de creación"
      ],
      "metadata": {
        "id": "66dwodF6tT-E"
      }
    },
    {
      "cell_type": "code",
      "source": [
        "# Aplicar la función para obtener la fecha de creación de cada TLD en el DataFrame\n",
        "filtered_df['creation_date'] = filtered_df['tld'].apply(get_creation_date)\n",
        "\n",
        "# Imprimir el DataFrame con la fecha de creación de cada TLD\n",
        "filtered_df[['tld', 'creation_date']]"
      ],
      "metadata": {
        "id": "CM3u2w7StW9n",
        "outputId": "8733ffed-e15a-4687-a665-33fd9da34658",
        "colab": {
          "base_uri": "https://localhost:8080/",
          "height": 424
        }
      },
      "execution_count": 29,
      "outputs": [
        {
          "output_type": "execute_result",
          "data": {
            "text/plain": [
              "               tld creation_date\n",
              "1394     microsoft          None\n",
              "2286     microsoft          None\n",
              "3113     microsoft          None\n",
              "3121     microsoft          None\n",
              "3666     microsoft          None\n",
              "...            ...           ...\n",
              "810555   microsoft          None\n",
              "811771   microsoft          None\n",
              "969734   microsoft          None\n",
              "1009442  microsoft          None\n",
              "1010652  microsoft          None\n",
              "\n",
              "[83 rows x 2 columns]"
            ],
            "text/html": [
              "\n",
              "  <div id=\"df-4ec1a87a-975e-4ff2-be1d-fd73bfdc4fdd\" class=\"colab-df-container\">\n",
              "    <div>\n",
              "<style scoped>\n",
              "    .dataframe tbody tr th:only-of-type {\n",
              "        vertical-align: middle;\n",
              "    }\n",
              "\n",
              "    .dataframe tbody tr th {\n",
              "        vertical-align: top;\n",
              "    }\n",
              "\n",
              "    .dataframe thead th {\n",
              "        text-align: right;\n",
              "    }\n",
              "</style>\n",
              "<table border=\"1\" class=\"dataframe\">\n",
              "  <thead>\n",
              "    <tr style=\"text-align: right;\">\n",
              "      <th></th>\n",
              "      <th>tld</th>\n",
              "      <th>creation_date</th>\n",
              "    </tr>\n",
              "  </thead>\n",
              "  <tbody>\n",
              "    <tr>\n",
              "      <th>1394</th>\n",
              "      <td>microsoft</td>\n",
              "      <td>None</td>\n",
              "    </tr>\n",
              "    <tr>\n",
              "      <th>2286</th>\n",
              "      <td>microsoft</td>\n",
              "      <td>None</td>\n",
              "    </tr>\n",
              "    <tr>\n",
              "      <th>3113</th>\n",
              "      <td>microsoft</td>\n",
              "      <td>None</td>\n",
              "    </tr>\n",
              "    <tr>\n",
              "      <th>3121</th>\n",
              "      <td>microsoft</td>\n",
              "      <td>None</td>\n",
              "    </tr>\n",
              "    <tr>\n",
              "      <th>3666</th>\n",
              "      <td>microsoft</td>\n",
              "      <td>None</td>\n",
              "    </tr>\n",
              "    <tr>\n",
              "      <th>...</th>\n",
              "      <td>...</td>\n",
              "      <td>...</td>\n",
              "    </tr>\n",
              "    <tr>\n",
              "      <th>810555</th>\n",
              "      <td>microsoft</td>\n",
              "      <td>None</td>\n",
              "    </tr>\n",
              "    <tr>\n",
              "      <th>811771</th>\n",
              "      <td>microsoft</td>\n",
              "      <td>None</td>\n",
              "    </tr>\n",
              "    <tr>\n",
              "      <th>969734</th>\n",
              "      <td>microsoft</td>\n",
              "      <td>None</td>\n",
              "    </tr>\n",
              "    <tr>\n",
              "      <th>1009442</th>\n",
              "      <td>microsoft</td>\n",
              "      <td>None</td>\n",
              "    </tr>\n",
              "    <tr>\n",
              "      <th>1010652</th>\n",
              "      <td>microsoft</td>\n",
              "      <td>None</td>\n",
              "    </tr>\n",
              "  </tbody>\n",
              "</table>\n",
              "<p>83 rows × 2 columns</p>\n",
              "</div>\n",
              "    <div class=\"colab-df-buttons\">\n",
              "\n",
              "  <div class=\"colab-df-container\">\n",
              "    <button class=\"colab-df-convert\" onclick=\"convertToInteractive('df-4ec1a87a-975e-4ff2-be1d-fd73bfdc4fdd')\"\n",
              "            title=\"Convert this dataframe to an interactive table.\"\n",
              "            style=\"display:none;\">\n",
              "\n",
              "  <svg xmlns=\"http://www.w3.org/2000/svg\" height=\"24px\" viewBox=\"0 -960 960 960\">\n",
              "    <path d=\"M120-120v-720h720v720H120Zm60-500h600v-160H180v160Zm220 220h160v-160H400v160Zm0 220h160v-160H400v160ZM180-400h160v-160H180v160Zm440 0h160v-160H620v160ZM180-180h160v-160H180v160Zm440 0h160v-160H620v160Z\"/>\n",
              "  </svg>\n",
              "    </button>\n",
              "\n",
              "  <style>\n",
              "    .colab-df-container {\n",
              "      display:flex;\n",
              "      gap: 12px;\n",
              "    }\n",
              "\n",
              "    .colab-df-convert {\n",
              "      background-color: #E8F0FE;\n",
              "      border: none;\n",
              "      border-radius: 50%;\n",
              "      cursor: pointer;\n",
              "      display: none;\n",
              "      fill: #1967D2;\n",
              "      height: 32px;\n",
              "      padding: 0 0 0 0;\n",
              "      width: 32px;\n",
              "    }\n",
              "\n",
              "    .colab-df-convert:hover {\n",
              "      background-color: #E2EBFA;\n",
              "      box-shadow: 0px 1px 2px rgba(60, 64, 67, 0.3), 0px 1px 3px 1px rgba(60, 64, 67, 0.15);\n",
              "      fill: #174EA6;\n",
              "    }\n",
              "\n",
              "    .colab-df-buttons div {\n",
              "      margin-bottom: 4px;\n",
              "    }\n",
              "\n",
              "    [theme=dark] .colab-df-convert {\n",
              "      background-color: #3B4455;\n",
              "      fill: #D2E3FC;\n",
              "    }\n",
              "\n",
              "    [theme=dark] .colab-df-convert:hover {\n",
              "      background-color: #434B5C;\n",
              "      box-shadow: 0px 1px 3px 1px rgba(0, 0, 0, 0.15);\n",
              "      filter: drop-shadow(0px 1px 2px rgba(0, 0, 0, 0.3));\n",
              "      fill: #FFFFFF;\n",
              "    }\n",
              "  </style>\n",
              "\n",
              "    <script>\n",
              "      const buttonEl =\n",
              "        document.querySelector('#df-4ec1a87a-975e-4ff2-be1d-fd73bfdc4fdd button.colab-df-convert');\n",
              "      buttonEl.style.display =\n",
              "        google.colab.kernel.accessAllowed ? 'block' : 'none';\n",
              "\n",
              "      async function convertToInteractive(key) {\n",
              "        const element = document.querySelector('#df-4ec1a87a-975e-4ff2-be1d-fd73bfdc4fdd');\n",
              "        const dataTable =\n",
              "          await google.colab.kernel.invokeFunction('convertToInteractive',\n",
              "                                                    [key], {});\n",
              "        if (!dataTable) return;\n",
              "\n",
              "        const docLinkHtml = 'Like what you see? Visit the ' +\n",
              "          '<a target=\"_blank\" href=https://colab.research.google.com/notebooks/data_table.ipynb>data table notebook</a>'\n",
              "          + ' to learn more about interactive tables.';\n",
              "        element.innerHTML = '';\n",
              "        dataTable['output_type'] = 'display_data';\n",
              "        await google.colab.output.renderOutput(dataTable, element);\n",
              "        const docLink = document.createElement('div');\n",
              "        docLink.innerHTML = docLinkHtml;\n",
              "        element.appendChild(docLink);\n",
              "      }\n",
              "    </script>\n",
              "  </div>\n",
              "\n",
              "\n",
              "<div id=\"df-db4edca5-ea1f-4cf5-8afd-c36e296112b6\">\n",
              "  <button class=\"colab-df-quickchart\" onclick=\"quickchart('df-db4edca5-ea1f-4cf5-8afd-c36e296112b6')\"\n",
              "            title=\"Suggest charts\"\n",
              "            style=\"display:none;\">\n",
              "\n",
              "<svg xmlns=\"http://www.w3.org/2000/svg\" height=\"24px\"viewBox=\"0 0 24 24\"\n",
              "     width=\"24px\">\n",
              "    <g>\n",
              "        <path d=\"M19 3H5c-1.1 0-2 .9-2 2v14c0 1.1.9 2 2 2h14c1.1 0 2-.9 2-2V5c0-1.1-.9-2-2-2zM9 17H7v-7h2v7zm4 0h-2V7h2v10zm4 0h-2v-4h2v4z\"/>\n",
              "    </g>\n",
              "</svg>\n",
              "  </button>\n",
              "\n",
              "<style>\n",
              "  .colab-df-quickchart {\n",
              "      --bg-color: #E8F0FE;\n",
              "      --fill-color: #1967D2;\n",
              "      --hover-bg-color: #E2EBFA;\n",
              "      --hover-fill-color: #174EA6;\n",
              "      --disabled-fill-color: #AAA;\n",
              "      --disabled-bg-color: #DDD;\n",
              "  }\n",
              "\n",
              "  [theme=dark] .colab-df-quickchart {\n",
              "      --bg-color: #3B4455;\n",
              "      --fill-color: #D2E3FC;\n",
              "      --hover-bg-color: #434B5C;\n",
              "      --hover-fill-color: #FFFFFF;\n",
              "      --disabled-bg-color: #3B4455;\n",
              "      --disabled-fill-color: #666;\n",
              "  }\n",
              "\n",
              "  .colab-df-quickchart {\n",
              "    background-color: var(--bg-color);\n",
              "    border: none;\n",
              "    border-radius: 50%;\n",
              "    cursor: pointer;\n",
              "    display: none;\n",
              "    fill: var(--fill-color);\n",
              "    height: 32px;\n",
              "    padding: 0;\n",
              "    width: 32px;\n",
              "  }\n",
              "\n",
              "  .colab-df-quickchart:hover {\n",
              "    background-color: var(--hover-bg-color);\n",
              "    box-shadow: 0 1px 2px rgba(60, 64, 67, 0.3), 0 1px 3px 1px rgba(60, 64, 67, 0.15);\n",
              "    fill: var(--button-hover-fill-color);\n",
              "  }\n",
              "\n",
              "  .colab-df-quickchart-complete:disabled,\n",
              "  .colab-df-quickchart-complete:disabled:hover {\n",
              "    background-color: var(--disabled-bg-color);\n",
              "    fill: var(--disabled-fill-color);\n",
              "    box-shadow: none;\n",
              "  }\n",
              "\n",
              "  .colab-df-spinner {\n",
              "    border: 2px solid var(--fill-color);\n",
              "    border-color: transparent;\n",
              "    border-bottom-color: var(--fill-color);\n",
              "    animation:\n",
              "      spin 1s steps(1) infinite;\n",
              "  }\n",
              "\n",
              "  @keyframes spin {\n",
              "    0% {\n",
              "      border-color: transparent;\n",
              "      border-bottom-color: var(--fill-color);\n",
              "      border-left-color: var(--fill-color);\n",
              "    }\n",
              "    20% {\n",
              "      border-color: transparent;\n",
              "      border-left-color: var(--fill-color);\n",
              "      border-top-color: var(--fill-color);\n",
              "    }\n",
              "    30% {\n",
              "      border-color: transparent;\n",
              "      border-left-color: var(--fill-color);\n",
              "      border-top-color: var(--fill-color);\n",
              "      border-right-color: var(--fill-color);\n",
              "    }\n",
              "    40% {\n",
              "      border-color: transparent;\n",
              "      border-right-color: var(--fill-color);\n",
              "      border-top-color: var(--fill-color);\n",
              "    }\n",
              "    60% {\n",
              "      border-color: transparent;\n",
              "      border-right-color: var(--fill-color);\n",
              "    }\n",
              "    80% {\n",
              "      border-color: transparent;\n",
              "      border-right-color: var(--fill-color);\n",
              "      border-bottom-color: var(--fill-color);\n",
              "    }\n",
              "    90% {\n",
              "      border-color: transparent;\n",
              "      border-bottom-color: var(--fill-color);\n",
              "    }\n",
              "  }\n",
              "</style>\n",
              "\n",
              "  <script>\n",
              "    async function quickchart(key) {\n",
              "      const quickchartButtonEl =\n",
              "        document.querySelector('#' + key + ' button');\n",
              "      quickchartButtonEl.disabled = true;  // To prevent multiple clicks.\n",
              "      quickchartButtonEl.classList.add('colab-df-spinner');\n",
              "      try {\n",
              "        const charts = await google.colab.kernel.invokeFunction(\n",
              "            'suggestCharts', [key], {});\n",
              "      } catch (error) {\n",
              "        console.error('Error during call to suggestCharts:', error);\n",
              "      }\n",
              "      quickchartButtonEl.classList.remove('colab-df-spinner');\n",
              "      quickchartButtonEl.classList.add('colab-df-quickchart-complete');\n",
              "    }\n",
              "    (() => {\n",
              "      let quickchartButtonEl =\n",
              "        document.querySelector('#df-db4edca5-ea1f-4cf5-8afd-c36e296112b6 button');\n",
              "      quickchartButtonEl.style.display =\n",
              "        google.colab.kernel.accessAllowed ? 'block' : 'none';\n",
              "    })();\n",
              "  </script>\n",
              "</div>\n",
              "    </div>\n",
              "  </div>\n"
            ],
            "application/vnd.google.colaboratory.intrinsic+json": {
              "type": "dataframe",
              "repr_error": "0"
            }
          },
          "metadata": {},
          "execution_count": 29
        }
      ]
    },
    {
      "cell_type": "markdown",
      "source": [
        "En este caso, podemos confirmar que todos son sospechosos, dado que no se pudo obtener información de la fecha de creación del link."
      ],
      "metadata": {
        "id": "vVIOnX4ptwV1"
      }
    },
    {
      "cell_type": "markdown",
      "source": [
        "Indicar cuales dominios tienen secuencias aleatorias de caracteres, no palabras."
      ],
      "metadata": {
        "id": "h4Y9FjVEt9Ip"
      }
    },
    {
      "cell_type": "code",
      "source": [
        "def detect_dga(domain):\n",
        "    # Verificando si el dominio contiene solo caracteres alfanuméricos\n",
        "    if not domain.isalnum():\n",
        "        return True\n",
        "\n",
        "    # Verificando si el dominio contiene solo consonantes\n",
        "    vowels = 'aeiou'\n",
        "    consonants = 'bcdfghjklmnpqrstvwxyz'\n",
        "    if all(c.lower() in consonants for c in domain):\n",
        "        return True\n",
        "\n",
        "    # Si no se cumple ninguna de las condiciones anteriores, el dominio no se considera sospechoso de DGA\n",
        "    return False"
      ],
      "metadata": {
        "id": "5j_M3r2tuGLW"
      },
      "execution_count": 55,
      "outputs": []
    },
    {
      "cell_type": "code",
      "source": [
        "filtered_df[\"is_dga\"] = filtered_df['domain'].apply(detect_dga)\n",
        "\n",
        "suspicious_domains = filtered_df[filtered_df['is_dga']]\n",
        "print(\"Dominios sospechosos de DGA:\")\n",
        "print(suspicious_domains[['domain', 'is_dga']])"
      ],
      "metadata": {
        "id": "gWS8dN_Rue2P",
        "outputId": "9eac8d78-1f04-4ff0-a099-d5a50343a613",
        "colab": {
          "base_uri": "https://localhost:8080/"
        }
      },
      "execution_count": 56,
      "outputs": [
        {
          "output_type": "stream",
          "name": "stdout",
          "text": [
            "Dominios sospechosos de DGA:\n",
            "                                    domain  is_dga\n",
            "1394                       cloud.microsoft    True\n",
            "2286                      static.microsoft    True\n",
            "3113               outlook.cloud.microsoft    True\n",
            "3121                 teams.cloud.microsoft    True\n",
            "3666        otelrules.svc.static.microsoft    True\n",
            "...                                    ...     ...\n",
            "810555                loop.cloud.microsoft    True\n",
            "811771      rssfeed.azure.status.microsoft    True\n",
            "969734   nam.sessions.mesh.cloud.microsoft    True\n",
            "1009442            hrd.svc.cloud.microsoft    True\n",
            "1010652       msit.hrd.svc.cloud.microsoft    True\n",
            "\n",
            "[83 rows x 2 columns]\n"
          ]
        }
      ]
    },
    {
      "cell_type": "markdown",
      "source": [
        "En este caso, se puede notar que todos los dominios son sospechosos, debido a que presentan alguna incoherencia, como lo podría ser, por ejemplo, azure.status, o mist.hrd.svc.clout."
      ],
      "metadata": {
        "id": "x7fGV-GpuvGd"
      }
    }
  ],
  "metadata": {
    "kernelspec": {
      "display_name": "Python 3",
      "language": "python",
      "name": "python3"
    },
    "language_info": {
      "codemirror_mode": {
        "name": "ipython",
        "version": 3
      },
      "file_extension": ".py",
      "mimetype": "text/x-python",
      "name": "python",
      "nbconvert_exporter": "python",
      "pygments_lexer": "ipython3",
      "version": "3.11.3"
    },
    "colab": {
      "provenance": [],
      "include_colab_link": true
    }
  },
  "nbformat": 4,
  "nbformat_minor": 0
}