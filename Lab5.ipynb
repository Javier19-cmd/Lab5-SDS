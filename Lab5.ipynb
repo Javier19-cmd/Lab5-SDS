{
  "cells": [
    {
      "cell_type": "markdown",
      "metadata": {
        "id": "view-in-github",
        "colab_type": "text"
      },
      "source": [
        "<a href=\"https://colab.research.google.com/github/Javier19-cmd/Lab5-SDS/blob/main/Lab5.ipynb\" target=\"_parent\"><img src=\"https://colab.research.google.com/assets/colab-badge.svg\" alt=\"Open In Colab\"/></a>"
      ]
    },
    {
      "cell_type": "markdown",
      "metadata": {
        "id": "RNceaZR8Plbl"
      },
      "source": [
        "# Laboratorio 5\n",
        "\n",
        "Javier Valle 20159"
      ]
    },
    {
      "cell_type": "code",
      "execution_count": 5,
      "metadata": {
        "id": "jJzepmElPlbo"
      },
      "outputs": [],
      "source": [
        "#from Archivos.clasificador import clasificacion\n",
        "from clasificador import clasificacion\n",
        "import pandas as pd\n",
        "import json\n",
        "import random\n",
        "import re\n",
        "import numpy as np"
      ]
    },
    {
      "cell_type": "markdown",
      "metadata": {
        "id": "9Nw7ZlPtPlbr"
      },
      "source": [
        "### Parte 1"
      ]
    },
    {
      "cell_type": "markdown",
      "metadata": {
        "id": "ilDzA359Plbr"
      },
      "source": [
        "Leyendo y guardando el tráfico que es DNS nada más"
      ]
    },
    {
      "cell_type": "code",
      "execution_count": null,
      "metadata": {
        "id": "TBPMasvuPlbs"
      },
      "outputs": [],
      "source": [
        "with open('./large_eve.json', 'r') as archivo_json, \\\n",
        "        open('./dns_trafico.json', 'w') as archivo_dns:\n",
        "\n",
        "    for linea in archivo_json:\n",
        "        datos = json.loads(linea)\n",
        "        if datos['event_type'] == 'dns':\n",
        "            json.dump(datos, archivo_dns)\n",
        "            archivo_dns.write('\\n')\n",
        "\n",
        "archivo_json.close()\n",
        "archivo_dns.close()"
      ]
    },
    {
      "cell_type": "markdown",
      "metadata": {
        "id": "SWKspKYTPlbt"
      },
      "source": [
        "Enseñando la cantidad de registros"
      ]
    },
    {
      "cell_type": "code",
      "execution_count": 3,
      "metadata": {
        "colab": {
          "base_uri": "https://localhost:8080/"
        },
        "id": "Qb_2H3vOPlbt",
        "outputId": "b162622d-7e04-4ca9-8b3f-33fb715c6119"
      },
      "outputs": [
        {
          "output_type": "stream",
          "name": "stdout",
          "text": [
            "Cantidad de registros guardados: 15749\n"
          ]
        }
      ],
      "source": [
        "with open('./dns_trafico.json', 'r') as archivo_dns:\n",
        "    contador_registros = 0\n",
        "\n",
        "    for linea in archivo_dns:\n",
        "        contador_registros += 1\n",
        "\n",
        "print(\"Cantidad de registros guardados:\", contador_registros)"
      ]
    },
    {
      "cell_type": "markdown",
      "metadata": {
        "id": "gG9FrEG3Plbv"
      },
      "source": [
        "Enseñando la información de 2 registros cualesquiera"
      ]
    },
    {
      "cell_type": "code",
      "execution_count": 6,
      "metadata": {
        "colab": {
          "base_uri": "https://localhost:8080/"
        },
        "id": "-FmGX73RPlbv",
        "outputId": "69eb1357-75ff-49a5-8625-28a8c45177f5"
      },
      "outputs": [
        {
          "output_type": "stream",
          "name": "stdout",
          "text": [
            "Registro 1:\n",
            "{\n",
            "    \"timestamp\": \"2017-07-22T19:29:18.711840-0500\",\n",
            "    \"flow_id\": 1103390249507751,\n",
            "    \"pcap_cnt\": 3354173,\n",
            "    \"event_type\": \"dns\",\n",
            "    \"vlan\": 150,\n",
            "    \"src_ip\": \"192.168.207.4\",\n",
            "    \"src_port\": 53,\n",
            "    \"dest_ip\": \"192.168.205.188\",\n",
            "    \"dest_port\": 52340,\n",
            "    \"proto\": \"UDP\",\n",
            "    \"dns\": {\n",
            "        \"type\": \"answer\",\n",
            "        \"id\": 28302,\n",
            "        \"rcode\": \"NXDOMAIN\",\n",
            "        \"rrname\": \"mirrors.tummy.com\"\n",
            "    }\n",
            "}\n",
            "\n",
            "Registro 2:\n",
            "{\n",
            "    \"timestamp\": \"2017-07-22T17:36:28.422847-0500\",\n",
            "    \"flow_id\": 308404244214469,\n",
            "    \"pcap_cnt\": 70786,\n",
            "    \"event_type\": \"dns\",\n",
            "    \"vlan\": 110,\n",
            "    \"src_ip\": \"192.168.207.4\",\n",
            "    \"src_port\": 53,\n",
            "    \"dest_ip\": \"192.168.201.68\",\n",
            "    \"dest_port\": 59948,\n",
            "    \"proto\": \"UDP\",\n",
            "    \"dns\": {\n",
            "        \"type\": \"answer\",\n",
            "        \"id\": 6926,\n",
            "        \"rcode\": \"NXDOMAIN\",\n",
            "        \"rrname\": \"secure.informaction.com.localdomain\"\n",
            "    }\n",
            "}\n"
          ]
        }
      ],
      "source": [
        "lineas = []\n",
        "\n",
        "with open('./dns_trafico.json', 'r') as archivo_dns:\n",
        "    for linea in archivo_dns:\n",
        "        lineas.append(linea)\n",
        "\n",
        "# Escogiendo dos índices aleatorios dentro del rango de líneas en el archivo\n",
        "indice1 = random.randint(0, len(lineas)-1)\n",
        "indice2 = random.randint(0, len(lineas)-1)\n",
        "\n",
        "# Obteniendo los datos de los registros correspondientes a los índices escogidos\n",
        "registro1 = json.loads(lineas[indice1])\n",
        "registro2 = json.loads(lineas[indice2])\n",
        "\n",
        "\n",
        "print(\"Registro 1:\")\n",
        "print(json.dumps(registro1, indent=4))\n",
        "print(\"\\nRegistro 2:\")\n",
        "print(json.dumps(registro2, indent=4))\n"
      ]
    },
    {
      "cell_type": "markdown",
      "metadata": {
        "id": "9Qm8bkFuPlbw"
      },
      "source": [
        "Normalizando la data"
      ]
    },
    {
      "cell_type": "code",
      "execution_count": 7,
      "metadata": {
        "colab": {
          "base_uri": "https://localhost:8080/"
        },
        "id": "A-t7uvoVPlbw",
        "outputId": "d86e2de3-328f-4332-9cf3-06561b5d51ad"
      },
      "outputs": [
        {
          "output_type": "stream",
          "name": "stdout",
          "text": [
            "Shape del DataFrame: (15749, 18)\n"
          ]
        }
      ],
      "source": [
        "with open('./dns_trafico.json', 'r') as archivo_dns:\n",
        "    datos = [json.loads(linea) for linea in archivo_dns]\n",
        "\n",
        "# Normalizando los datos\n",
        "df = pd.json_normalize(datos)\n",
        "\n",
        "print(\"Shape del DataFrame:\", df.shape)"
      ]
    },
    {
      "cell_type": "markdown",
      "metadata": {
        "id": "MJJn6vyYPlby"
      },
      "source": [
        "Buscando dominios DGA"
      ]
    },
    {
      "cell_type": "code",
      "execution_count": 8,
      "metadata": {
        "colab": {
          "base_uri": "https://localhost:8080/"
        },
        "id": "5JWg4kB1Plby",
        "outputId": "e6ed8b25-2835-45a0-f8ad-45f7d1d5875c"
      },
      "outputs": [
        {
          "output_type": "stream",
          "name": "stdout",
          "text": [
            "Shape del DataFrame filtrado: 2849\n"
          ]
        }
      ],
      "source": [
        "# Filtrando los registros DNS tipo A\n",
        "registros_tipo_A = df[df['dns.rrtype'] == 'A']\n",
        "\n",
        "print(\"Shape del DataFrame filtrado:\", len(registros_tipo_A))"
      ]
    },
    {
      "cell_type": "markdown",
      "metadata": {
        "id": "bsLR_Gh8Plbz"
      },
      "source": [
        "Filtrando los dominios únicos"
      ]
    },
    {
      "cell_type": "code",
      "execution_count": 9,
      "metadata": {
        "colab": {
          "base_uri": "https://localhost:8080/"
        },
        "id": "NvqCrR27Plbz",
        "outputId": "747324fd-a5f7-4545-e217-3437796ff19f"
      },
      "outputs": [
        {
          "output_type": "stream",
          "name": "stdout",
          "text": [
            "Cantidad de registros únicos: 334\n"
          ]
        }
      ],
      "source": [
        "# Conjunto para almacenar dominios únicos\n",
        "unique_domains = set()\n",
        "\n",
        "with open('./dns_trafico.json', 'r') as archivo_dns:\n",
        "    for linea in archivo_dns:\n",
        "        datos = json.loads(linea)\n",
        "        # Extrayendo el dominio del campo 'rrname' y agregarlo al conjunto\n",
        "        domain = datos['dns']['rrname']\n",
        "        unique_domains.add(domain)\n",
        "\n",
        "num_unique_domains = len(unique_domains)\n",
        "\n",
        "print(\"Cantidad de registros únicos:\", num_unique_domains)"
      ]
    },
    {
      "cell_type": "markdown",
      "metadata": {
        "id": "3IT1cGKGPlb0"
      },
      "source": [
        "Escribiendo una función que obtengo el TLD para un dominio"
      ]
    },
    {
      "cell_type": "code",
      "execution_count": 10,
      "metadata": {
        "colab": {
          "base_uri": "https://localhost:8080/"
        },
        "id": "9rP5GpAYPlb0",
        "outputId": "f642dd75-5339-41df-e9d8-9b5a7016ce77"
      },
      "outputs": [
        {
          "output_type": "stream",
          "name": "stdout",
          "text": [
            "TLD de api.wunderground.com : wunderground\n",
            "TLD de safebrowsing.clients.google.com.home : clients.google.com\n"
          ]
        }
      ],
      "source": [
        "def obtener_TLD(dominio):\n",
        "    # Expresión regular para encontrar el TLD\n",
        "    patron = r'\\.(.*?)\\.(?:com|org|net|gov|edu|int|mil|arpa|biz|info|name|pro|aero|coop|museum|jobs|travel|cat|tel|onion|git|home|local|example|test|invalid|localhost|localdomain)$'\n",
        "    match = re.search(patron, dominio)\n",
        "    if match:\n",
        "        return match.group(1)\n",
        "    else:\n",
        "        return dominio\n",
        "\n",
        "# Ejemplo de uso\n",
        "dominio1 = \"api.wunderground.com\"\n",
        "dominio2 = \"safebrowsing.clients.google.com.home\"\n",
        "\n",
        "print(\"TLD de\", dominio1, \":\", obtener_TLD(dominio1))\n",
        "print(\"TLD de\", dominio2, \":\", obtener_TLD(dominio2))"
      ]
    },
    {
      "cell_type": "markdown",
      "metadata": {
        "id": "6ZWtBrcFPlb1"
      },
      "source": [
        "Prompt utilizado: \"hola, me podrías escribir una función que me obtenga el TLD para un dominio\""
      ]
    },
    {
      "cell_type": "markdown",
      "metadata": {
        "id": "WEWKrXomPlb1"
      },
      "source": [
        "Creando una columna que se llame domain_tld y eliminando las demás columnas"
      ]
    },
    {
      "cell_type": "code",
      "execution_count": 11,
      "metadata": {
        "colab": {
          "base_uri": "https://localhost:8080/"
        },
        "id": "L2Of0vcpPlb2",
        "outputId": "d99718ba-1a86-4653-be24-f0ddedc7560f"
      },
      "outputs": [
        {
          "output_type": "stream",
          "name": "stdout",
          "text": [
            "                        domain_tld\n",
            "0                     wunderground\n",
            "1                          dropbox\n",
            "2      office.aol.com.ad.aol.aoltw\n",
            "3      office.aol.com.ad.aol.aoltw\n",
            "4                           <root>\n",
            "...                            ...\n",
            "15744               start3.mozilla\n",
            "15745                       <root>\n",
            "15746        whitecell.localdomain\n",
            "15747        whitecell.localdomain\n",
            "15748                       <root>\n",
            "\n",
            "[15749 rows x 1 columns]\n"
          ]
        }
      ],
      "source": [
        "if 'domain_tld' not in df.columns:\n",
        "    df['domain_tld'] = df['dns.rrname'].apply(obtener_TLD)\n",
        "\n",
        "    df = df[['domain_tld']]\n",
        "\n",
        "print(df)"
      ]
    },
    {
      "cell_type": "markdown",
      "metadata": {
        "id": "Le6o6Jl0Plb2"
      },
      "source": [
        "### Parte 2"
      ]
    },
    {
      "cell_type": "markdown",
      "metadata": {
        "id": "SPN76boQPlb3"
      },
      "source": [
        "Usando el clasificador proporcionado y creando un nuevo dataframe"
      ]
    },
    {
      "cell_type": "code",
      "execution_count": 18,
      "metadata": {
        "colab": {
          "base_uri": "https://localhost:8080/",
          "height": 496
        },
        "id": "gPnwxYeOPlb3",
        "outputId": "37face70-d34f-40d9-e556-7ad8cf239b59"
      },
      "outputs": [
        {
          "output_type": "stream",
          "name": "stderr",
          "text": [
            "/usr/local/lib/python3.10/dist-packages/sklearn/base.py:318: UserWarning: Trying to unpickle estimator DecisionTreeClassifier from version 1.0.2 when using version 1.2.2. This might lead to breaking code or invalid results. Use at your own risk. For more info please refer to:\n",
            "https://scikit-learn.org/stable/model_persistence.html#security-maintainability-limitations\n",
            "  warnings.warn(\n"
          ]
        },
        {
          "output_type": "execute_result",
          "data": {
            "text/plain": [
              "                        domain_tld  isDGA\n",
              "0                     wunderground      1\n",
              "1                          dropbox      0\n",
              "2      office.aol.com.ad.aol.aoltw      1\n",
              "3      office.aol.com.ad.aol.aoltw      1\n",
              "4                           <root>      0\n",
              "...                            ...    ...\n",
              "15744               start3.mozilla      1\n",
              "15745                       <root>      0\n",
              "15746        whitecell.localdomain      0\n",
              "15747        whitecell.localdomain      0\n",
              "15748                       <root>      0\n",
              "\n",
              "[15749 rows x 2 columns]"
            ],
            "text/html": [
              "\n",
              "  <div id=\"df-830e573e-4042-4b8d-8328-20f402816500\" class=\"colab-df-container\">\n",
              "    <div>\n",
              "<style scoped>\n",
              "    .dataframe tbody tr th:only-of-type {\n",
              "        vertical-align: middle;\n",
              "    }\n",
              "\n",
              "    .dataframe tbody tr th {\n",
              "        vertical-align: top;\n",
              "    }\n",
              "\n",
              "    .dataframe thead th {\n",
              "        text-align: right;\n",
              "    }\n",
              "</style>\n",
              "<table border=\"1\" class=\"dataframe\">\n",
              "  <thead>\n",
              "    <tr style=\"text-align: right;\">\n",
              "      <th></th>\n",
              "      <th>domain_tld</th>\n",
              "      <th>isDGA</th>\n",
              "    </tr>\n",
              "  </thead>\n",
              "  <tbody>\n",
              "    <tr>\n",
              "      <th>0</th>\n",
              "      <td>wunderground</td>\n",
              "      <td>1</td>\n",
              "    </tr>\n",
              "    <tr>\n",
              "      <th>1</th>\n",
              "      <td>dropbox</td>\n",
              "      <td>0</td>\n",
              "    </tr>\n",
              "    <tr>\n",
              "      <th>2</th>\n",
              "      <td>office.aol.com.ad.aol.aoltw</td>\n",
              "      <td>1</td>\n",
              "    </tr>\n",
              "    <tr>\n",
              "      <th>3</th>\n",
              "      <td>office.aol.com.ad.aol.aoltw</td>\n",
              "      <td>1</td>\n",
              "    </tr>\n",
              "    <tr>\n",
              "      <th>4</th>\n",
              "      <td>&lt;root&gt;</td>\n",
              "      <td>0</td>\n",
              "    </tr>\n",
              "    <tr>\n",
              "      <th>...</th>\n",
              "      <td>...</td>\n",
              "      <td>...</td>\n",
              "    </tr>\n",
              "    <tr>\n",
              "      <th>15744</th>\n",
              "      <td>start3.mozilla</td>\n",
              "      <td>1</td>\n",
              "    </tr>\n",
              "    <tr>\n",
              "      <th>15745</th>\n",
              "      <td>&lt;root&gt;</td>\n",
              "      <td>0</td>\n",
              "    </tr>\n",
              "    <tr>\n",
              "      <th>15746</th>\n",
              "      <td>whitecell.localdomain</td>\n",
              "      <td>0</td>\n",
              "    </tr>\n",
              "    <tr>\n",
              "      <th>15747</th>\n",
              "      <td>whitecell.localdomain</td>\n",
              "      <td>0</td>\n",
              "    </tr>\n",
              "    <tr>\n",
              "      <th>15748</th>\n",
              "      <td>&lt;root&gt;</td>\n",
              "      <td>0</td>\n",
              "    </tr>\n",
              "  </tbody>\n",
              "</table>\n",
              "<p>15749 rows × 2 columns</p>\n",
              "</div>\n",
              "    <div class=\"colab-df-buttons\">\n",
              "\n",
              "  <div class=\"colab-df-container\">\n",
              "    <button class=\"colab-df-convert\" onclick=\"convertToInteractive('df-830e573e-4042-4b8d-8328-20f402816500')\"\n",
              "            title=\"Convert this dataframe to an interactive table.\"\n",
              "            style=\"display:none;\">\n",
              "\n",
              "  <svg xmlns=\"http://www.w3.org/2000/svg\" height=\"24px\" viewBox=\"0 -960 960 960\">\n",
              "    <path d=\"M120-120v-720h720v720H120Zm60-500h600v-160H180v160Zm220 220h160v-160H400v160Zm0 220h160v-160H400v160ZM180-400h160v-160H180v160Zm440 0h160v-160H620v160ZM180-180h160v-160H180v160Zm440 0h160v-160H620v160Z\"/>\n",
              "  </svg>\n",
              "    </button>\n",
              "\n",
              "  <style>\n",
              "    .colab-df-container {\n",
              "      display:flex;\n",
              "      gap: 12px;\n",
              "    }\n",
              "\n",
              "    .colab-df-convert {\n",
              "      background-color: #E8F0FE;\n",
              "      border: none;\n",
              "      border-radius: 50%;\n",
              "      cursor: pointer;\n",
              "      display: none;\n",
              "      fill: #1967D2;\n",
              "      height: 32px;\n",
              "      padding: 0 0 0 0;\n",
              "      width: 32px;\n",
              "    }\n",
              "\n",
              "    .colab-df-convert:hover {\n",
              "      background-color: #E2EBFA;\n",
              "      box-shadow: 0px 1px 2px rgba(60, 64, 67, 0.3), 0px 1px 3px 1px rgba(60, 64, 67, 0.15);\n",
              "      fill: #174EA6;\n",
              "    }\n",
              "\n",
              "    .colab-df-buttons div {\n",
              "      margin-bottom: 4px;\n",
              "    }\n",
              "\n",
              "    [theme=dark] .colab-df-convert {\n",
              "      background-color: #3B4455;\n",
              "      fill: #D2E3FC;\n",
              "    }\n",
              "\n",
              "    [theme=dark] .colab-df-convert:hover {\n",
              "      background-color: #434B5C;\n",
              "      box-shadow: 0px 1px 3px 1px rgba(0, 0, 0, 0.15);\n",
              "      filter: drop-shadow(0px 1px 2px rgba(0, 0, 0, 0.3));\n",
              "      fill: #FFFFFF;\n",
              "    }\n",
              "  </style>\n",
              "\n",
              "    <script>\n",
              "      const buttonEl =\n",
              "        document.querySelector('#df-830e573e-4042-4b8d-8328-20f402816500 button.colab-df-convert');\n",
              "      buttonEl.style.display =\n",
              "        google.colab.kernel.accessAllowed ? 'block' : 'none';\n",
              "\n",
              "      async function convertToInteractive(key) {\n",
              "        const element = document.querySelector('#df-830e573e-4042-4b8d-8328-20f402816500');\n",
              "        const dataTable =\n",
              "          await google.colab.kernel.invokeFunction('convertToInteractive',\n",
              "                                                    [key], {});\n",
              "        if (!dataTable) return;\n",
              "\n",
              "        const docLinkHtml = 'Like what you see? Visit the ' +\n",
              "          '<a target=\"_blank\" href=https://colab.research.google.com/notebooks/data_table.ipynb>data table notebook</a>'\n",
              "          + ' to learn more about interactive tables.';\n",
              "        element.innerHTML = '';\n",
              "        dataTable['output_type'] = 'display_data';\n",
              "        await google.colab.output.renderOutput(dataTable, element);\n",
              "        const docLink = document.createElement('div');\n",
              "        docLink.innerHTML = docLinkHtml;\n",
              "        element.appendChild(docLink);\n",
              "      }\n",
              "    </script>\n",
              "  </div>\n",
              "\n",
              "\n",
              "<div id=\"df-138436ee-07d8-4881-9558-b6d4c97af06a\">\n",
              "  <button class=\"colab-df-quickchart\" onclick=\"quickchart('df-138436ee-07d8-4881-9558-b6d4c97af06a')\"\n",
              "            title=\"Suggest charts\"\n",
              "            style=\"display:none;\">\n",
              "\n",
              "<svg xmlns=\"http://www.w3.org/2000/svg\" height=\"24px\"viewBox=\"0 0 24 24\"\n",
              "     width=\"24px\">\n",
              "    <g>\n",
              "        <path d=\"M19 3H5c-1.1 0-2 .9-2 2v14c0 1.1.9 2 2 2h14c1.1 0 2-.9 2-2V5c0-1.1-.9-2-2-2zM9 17H7v-7h2v7zm4 0h-2V7h2v10zm4 0h-2v-4h2v4z\"/>\n",
              "    </g>\n",
              "</svg>\n",
              "  </button>\n",
              "\n",
              "<style>\n",
              "  .colab-df-quickchart {\n",
              "      --bg-color: #E8F0FE;\n",
              "      --fill-color: #1967D2;\n",
              "      --hover-bg-color: #E2EBFA;\n",
              "      --hover-fill-color: #174EA6;\n",
              "      --disabled-fill-color: #AAA;\n",
              "      --disabled-bg-color: #DDD;\n",
              "  }\n",
              "\n",
              "  [theme=dark] .colab-df-quickchart {\n",
              "      --bg-color: #3B4455;\n",
              "      --fill-color: #D2E3FC;\n",
              "      --hover-bg-color: #434B5C;\n",
              "      --hover-fill-color: #FFFFFF;\n",
              "      --disabled-bg-color: #3B4455;\n",
              "      --disabled-fill-color: #666;\n",
              "  }\n",
              "\n",
              "  .colab-df-quickchart {\n",
              "    background-color: var(--bg-color);\n",
              "    border: none;\n",
              "    border-radius: 50%;\n",
              "    cursor: pointer;\n",
              "    display: none;\n",
              "    fill: var(--fill-color);\n",
              "    height: 32px;\n",
              "    padding: 0;\n",
              "    width: 32px;\n",
              "  }\n",
              "\n",
              "  .colab-df-quickchart:hover {\n",
              "    background-color: var(--hover-bg-color);\n",
              "    box-shadow: 0 1px 2px rgba(60, 64, 67, 0.3), 0 1px 3px 1px rgba(60, 64, 67, 0.15);\n",
              "    fill: var(--button-hover-fill-color);\n",
              "  }\n",
              "\n",
              "  .colab-df-quickchart-complete:disabled,\n",
              "  .colab-df-quickchart-complete:disabled:hover {\n",
              "    background-color: var(--disabled-bg-color);\n",
              "    fill: var(--disabled-fill-color);\n",
              "    box-shadow: none;\n",
              "  }\n",
              "\n",
              "  .colab-df-spinner {\n",
              "    border: 2px solid var(--fill-color);\n",
              "    border-color: transparent;\n",
              "    border-bottom-color: var(--fill-color);\n",
              "    animation:\n",
              "      spin 1s steps(1) infinite;\n",
              "  }\n",
              "\n",
              "  @keyframes spin {\n",
              "    0% {\n",
              "      border-color: transparent;\n",
              "      border-bottom-color: var(--fill-color);\n",
              "      border-left-color: var(--fill-color);\n",
              "    }\n",
              "    20% {\n",
              "      border-color: transparent;\n",
              "      border-left-color: var(--fill-color);\n",
              "      border-top-color: var(--fill-color);\n",
              "    }\n",
              "    30% {\n",
              "      border-color: transparent;\n",
              "      border-left-color: var(--fill-color);\n",
              "      border-top-color: var(--fill-color);\n",
              "      border-right-color: var(--fill-color);\n",
              "    }\n",
              "    40% {\n",
              "      border-color: transparent;\n",
              "      border-right-color: var(--fill-color);\n",
              "      border-top-color: var(--fill-color);\n",
              "    }\n",
              "    60% {\n",
              "      border-color: transparent;\n",
              "      border-right-color: var(--fill-color);\n",
              "    }\n",
              "    80% {\n",
              "      border-color: transparent;\n",
              "      border-right-color: var(--fill-color);\n",
              "      border-bottom-color: var(--fill-color);\n",
              "    }\n",
              "    90% {\n",
              "      border-color: transparent;\n",
              "      border-bottom-color: var(--fill-color);\n",
              "    }\n",
              "  }\n",
              "</style>\n",
              "\n",
              "  <script>\n",
              "    async function quickchart(key) {\n",
              "      const quickchartButtonEl =\n",
              "        document.querySelector('#' + key + ' button');\n",
              "      quickchartButtonEl.disabled = true;  // To prevent multiple clicks.\n",
              "      quickchartButtonEl.classList.add('colab-df-spinner');\n",
              "      try {\n",
              "        const charts = await google.colab.kernel.invokeFunction(\n",
              "            'suggestCharts', [key], {});\n",
              "      } catch (error) {\n",
              "        console.error('Error during call to suggestCharts:', error);\n",
              "      }\n",
              "      quickchartButtonEl.classList.remove('colab-df-spinner');\n",
              "      quickchartButtonEl.classList.add('colab-df-quickchart-complete');\n",
              "    }\n",
              "    (() => {\n",
              "      let quickchartButtonEl =\n",
              "        document.querySelector('#df-138436ee-07d8-4881-9558-b6d4c97af06a button');\n",
              "      quickchartButtonEl.style.display =\n",
              "        google.colab.kernel.accessAllowed ? 'block' : 'none';\n",
              "    })();\n",
              "  </script>\n",
              "</div>\n",
              "    </div>\n",
              "  </div>\n"
            ],
            "application/vnd.google.colaboratory.intrinsic+json": {
              "type": "dataframe",
              "variable_name": "result",
              "summary": "{\n  \"name\": \"result\",\n  \"rows\": 15749,\n  \"fields\": [\n    {\n      \"column\": \"domain_tld\",\n      \"properties\": {\n        \"dtype\": \"category\",\n        \"num_unique_values\": 177,\n        \"samples\": [\n          \"_dns-sd._udp.0.1.168.192.in-addr\",\n          \"26.168.192.in-addr\",\n          \"192.168.21.1201\"\n        ],\n        \"semantic_type\": \"\",\n        \"description\": \"\"\n      }\n    },\n    {\n      \"column\": \"isDGA\",\n      \"properties\": {\n        \"dtype\": \"number\",\n        \"std\": 0,\n        \"min\": 0,\n        \"max\": 1,\n        \"num_unique_values\": 2,\n        \"samples\": [\n          0,\n          1\n        ],\n        \"semantic_type\": \"\",\n        \"description\": \"\"\n      }\n    }\n  ]\n}"
            }
          },
          "metadata": {},
          "execution_count": 18
        }
      ],
      "source": [
        "df\n",
        "\n",
        "result = clasificacion(df)\n",
        "\n",
        "result"
      ]
    },
    {
      "cell_type": "markdown",
      "source": [
        "Filtrando aquellos que son DGA y enseñándolos."
      ],
      "metadata": {
        "id": "E8C6o3HmQOyk"
      }
    },
    {
      "cell_type": "code",
      "source": [
        "# Filtrando aquellos considerados como DGA (valor 1)\n",
        "result = result[result['isDGA'] == 1]\n",
        "\n",
        "print(\"Registros considerados como DGA:\")\n",
        "print(result)\n",
        "\n",
        "# Eliminando duplicados\n",
        "result_unique = result.drop_duplicates()\n",
        "\n",
        "\n",
        "print(\"\\nCantidad de registros únicos después de eliminar duplicados:\", len(result_unique))"
      ],
      "metadata": {
        "id": "yt5wEStrQzmz",
        "outputId": "0ea9ee48-44bf-4e62-bf83-70890a8d6c6d",
        "colab": {
          "base_uri": "https://localhost:8080/"
        }
      },
      "execution_count": 21,
      "outputs": [
        {
          "output_type": "stream",
          "name": "stdout",
          "text": [
            "Registros considerados como DGA:\n",
            "                              domain_tld  isDGA\n",
            "0                           wunderground      1\n",
            "2            office.aol.com.ad.aol.aoltw      1\n",
            "3            office.aol.com.ad.aol.aoltw      1\n",
            "5                           wunderground      1\n",
            "21           office.aol.com.ad.aol.aoltw      1\n",
            "...                                  ...    ...\n",
            "15735  _dns-sd._udp.0.195.16.172.in-addr      1\n",
            "15740                 26.168.192.in-addr      1\n",
            "15741                 26.168.192.in-addr      1\n",
            "15743                     start3.mozilla      1\n",
            "15744                     start3.mozilla      1\n",
            "\n",
            "[3525 rows x 2 columns]\n",
            "\n",
            "Cantidad de registros únicos después de eliminar duplicados: 71\n"
          ]
        }
      ]
    },
    {
      "cell_type": "markdown",
      "source": [
        "### Parte 3 - Dominio experto"
      ],
      "metadata": {
        "id": "Bf2-aLHSRcrn"
      }
    },
    {
      "cell_type": "code",
      "source": [
        "def verificar_TLD(tld, tld_list):\n",
        "    if tld in tld_list:\n",
        "        return 0\n",
        "    else:\n",
        "        return 1"
      ],
      "metadata": {
        "id": "y99BQXAKRnu1"
      },
      "execution_count": null,
      "outputs": []
    }
  ],
  "metadata": {
    "kernelspec": {
      "display_name": "Python 3",
      "language": "python",
      "name": "python3"
    },
    "language_info": {
      "codemirror_mode": {
        "name": "ipython",
        "version": 3
      },
      "file_extension": ".py",
      "mimetype": "text/x-python",
      "name": "python",
      "nbconvert_exporter": "python",
      "pygments_lexer": "ipython3",
      "version": "3.11.3"
    },
    "colab": {
      "provenance": [],
      "include_colab_link": true
    }
  },
  "nbformat": 4,
  "nbformat_minor": 0
}